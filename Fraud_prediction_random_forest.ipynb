{
 "cells": [
  {
   "cell_type": "markdown",
   "metadata": {},
   "source": [
    "####  Case study 1 \n",
    "#### Hackathon \n",
    "##### - Shantam Bhuraria \n",
    "##### - 0697\n"
   ]
  },
  {
   "cell_type": "code",
   "execution_count": 1,
   "metadata": {},
   "outputs": [],
   "source": [
    "import pandas as pd \n",
    "import numpy as np\n",
    "import os\n",
    "import warnings\n",
    "import seaborn as sns \n",
    "import matplotlib.pyplot as plt \n",
    "from sklearn.preprocessing import StandardScaler  \n",
    "from sklearn.model_selection import train_test_split\n",
    "from sklearn.model_selection import cross_val_score\n",
    "from sklearn.feature_selection import RFE\n",
    "from sklearn.linear_model import LogisticRegression\n",
    "from sklearn.ensemble import RandomForestClassifier,GradientBoostingClassifier\n",
    "from sklearn.metrics import precision_recall_curve, roc_curve, auc, roc_auc_score, f1_score, plot_confusion_matrix, precision_score, recall_score\n",
    "from sklearn.metrics import accuracy_score, confusion_matrix, precision_score, recall_score, classification_report, roc_auc_score, roc_curve\n"
   ]
  },
  {
   "cell_type": "code",
   "execution_count": 2,
   "metadata": {},
   "outputs": [],
   "source": [
    "%matplotlib inline\n",
    "warnings.filterwarnings(\"ignore\")\n",
    "sns.set(style=\"whitegrid\")"
   ]
  },
  {
   "cell_type": "markdown",
   "metadata": {},
   "source": [
    "##### Getting the Data "
   ]
  },
  {
   "cell_type": "code",
   "execution_count": 3,
   "metadata": {},
   "outputs": [],
   "source": [
    "train = pd.read_csv('/home/shantam/Desktop/Supervised L1 30th July/Fraud_prediction_/train.csv')\n",
    "test = pd.read_csv('/home/shantam/Desktop/Supervised L1 30th July/Fraud_prediction_/test.csv')\n",
    "col_des=pd.read_csv('/home/shantam/Desktop/Supervised L1 30th July/Fraud_prediction_/column_Desc.csv')"
   ]
  },
  {
   "cell_type": "code",
   "execution_count": 4,
   "metadata": {},
   "outputs": [
    {
     "data": {
      "text/plain": [
       "(50000, 24)"
      ]
     },
     "execution_count": 4,
     "metadata": {},
     "output_type": "execute_result"
    }
   ],
   "source": [
    "train.shape"
   ]
  },
  {
   "cell_type": "code",
   "execution_count": 5,
   "metadata": {},
   "outputs": [
    {
     "data": {
      "text/html": [
       "<div>\n",
       "<style scoped>\n",
       "    .dataframe tbody tr th:only-of-type {\n",
       "        vertical-align: middle;\n",
       "    }\n",
       "\n",
       "    .dataframe tbody tr th {\n",
       "        vertical-align: top;\n",
       "    }\n",
       "\n",
       "    .dataframe thead th {\n",
       "        text-align: right;\n",
       "    }\n",
       "</style>\n",
       "<table border=\"1\" class=\"dataframe\">\n",
       "  <thead>\n",
       "    <tr style=\"text-align: right;\">\n",
       "      <th></th>\n",
       "      <th>CLAIMNO</th>\n",
       "      <th>REPORTEDDT</th>\n",
       "      <th>LOSSDT</th>\n",
       "      <th>BIRTHDT</th>\n",
       "      <th>SICCD</th>\n",
       "      <th>CAUSEOFINJURY_FLTRCD</th>\n",
       "      <th>BODYPART_FLTRCD</th>\n",
       "      <th>RTRN_TOWORKIND</th>\n",
       "      <th>NATUREOFINJURYCD</th>\n",
       "      <th>LOSSSTATECD</th>\n",
       "      <th>...</th>\n",
       "      <th>CLMNT_LON</th>\n",
       "      <th>CLMNT_STATECD</th>\n",
       "      <th>INSUREDSTATECD</th>\n",
       "      <th>CLMNT_NA_cleaned_root</th>\n",
       "      <th>N_PRVDR_NAME_NONPHYS_cleaned_root</th>\n",
       "      <th>N_REFRING_PHYS_final_root</th>\n",
       "      <th>INSUREDNA_cleaned_root</th>\n",
       "      <th>N_PAYTO_NAME_cleaned_root</th>\n",
       "      <th>Prov_Name_All_final_root</th>\n",
       "      <th>TARGET</th>\n",
       "    </tr>\n",
       "  </thead>\n",
       "  <tbody>\n",
       "    <tr>\n",
       "      <th>0</th>\n",
       "      <td>1</td>\n",
       "      <td>2016-10-12</td>\n",
       "      <td>2016-09-06</td>\n",
       "      <td>1987-07-27</td>\n",
       "      <td>5199</td>\n",
       "      <td>8.0</td>\n",
       "      <td>39.0</td>\n",
       "      <td>U</td>\n",
       "      <td>10.0</td>\n",
       "      <td>MO</td>\n",
       "      <td>...</td>\n",
       "      <td>-74.178010</td>\n",
       "      <td>NJ</td>\n",
       "      <td>MO</td>\n",
       "      <td>triquillagibbs</td>\n",
       "      <td>NaN</td>\n",
       "      <td>NaN</td>\n",
       "      <td>centricgroupllc</td>\n",
       "      <td>NaN</td>\n",
       "      <td>NaN</td>\n",
       "      <td>0.0</td>\n",
       "    </tr>\n",
       "    <tr>\n",
       "      <th>1</th>\n",
       "      <td>2</td>\n",
       "      <td>2016-10-12</td>\n",
       "      <td>2016-09-12</td>\n",
       "      <td>1977-04-29</td>\n",
       "      <td>5199</td>\n",
       "      <td>7.0</td>\n",
       "      <td>39.0</td>\n",
       "      <td>U</td>\n",
       "      <td>36.0</td>\n",
       "      <td>MA</td>\n",
       "      <td>...</td>\n",
       "      <td>-71.336869</td>\n",
       "      <td>MA</td>\n",
       "      <td>MO</td>\n",
       "      <td>jameschamberlain</td>\n",
       "      <td>NaN</td>\n",
       "      <td>NaN</td>\n",
       "      <td>centricgroupllc</td>\n",
       "      <td>NaN</td>\n",
       "      <td>NaN</td>\n",
       "      <td>0.0</td>\n",
       "    </tr>\n",
       "    <tr>\n",
       "      <th>2</th>\n",
       "      <td>3</td>\n",
       "      <td>2016-10-12</td>\n",
       "      <td>2016-09-23</td>\n",
       "      <td>1800-01-01</td>\n",
       "      <td>5199</td>\n",
       "      <td>6.0</td>\n",
       "      <td>39.0</td>\n",
       "      <td>U</td>\n",
       "      <td>52.0</td>\n",
       "      <td>MA</td>\n",
       "      <td>...</td>\n",
       "      <td>0.000000</td>\n",
       "      <td>MA</td>\n",
       "      <td>MO</td>\n",
       "      <td>donnathompson</td>\n",
       "      <td>NaN</td>\n",
       "      <td>NaN</td>\n",
       "      <td>centricgroupllc</td>\n",
       "      <td>NaN</td>\n",
       "      <td>NaN</td>\n",
       "      <td>0.0</td>\n",
       "    </tr>\n",
       "    <tr>\n",
       "      <th>3</th>\n",
       "      <td>4</td>\n",
       "      <td>2016-10-26</td>\n",
       "      <td>2016-10-07</td>\n",
       "      <td>NaN</td>\n",
       "      <td>8748</td>\n",
       "      <td>8.0</td>\n",
       "      <td>69.0</td>\n",
       "      <td>Y</td>\n",
       "      <td>10.0</td>\n",
       "      <td>PA</td>\n",
       "      <td>...</td>\n",
       "      <td>-74.571367</td>\n",
       "      <td>NJ</td>\n",
       "      <td>PA</td>\n",
       "      <td>wcadmin</td>\n",
       "      <td>NaN</td>\n",
       "      <td>NaN</td>\n",
       "      <td>2016adminhomeofficeclaims</td>\n",
       "      <td>NaN</td>\n",
       "      <td>NaN</td>\n",
       "      <td>0.0</td>\n",
       "    </tr>\n",
       "    <tr>\n",
       "      <th>4</th>\n",
       "      <td>5</td>\n",
       "      <td>2016-10-26</td>\n",
       "      <td>2016-10-07</td>\n",
       "      <td>NaN</td>\n",
       "      <td>8748</td>\n",
       "      <td>8.0</td>\n",
       "      <td>69.0</td>\n",
       "      <td>Y</td>\n",
       "      <td>10.0</td>\n",
       "      <td>PA</td>\n",
       "      <td>...</td>\n",
       "      <td>-74.570548</td>\n",
       "      <td>NJ</td>\n",
       "      <td>PA</td>\n",
       "      <td>wcadmin</td>\n",
       "      <td>NaN</td>\n",
       "      <td>NaN</td>\n",
       "      <td>2016adminwcscwc</td>\n",
       "      <td>NaN</td>\n",
       "      <td>NaN</td>\n",
       "      <td>0.0</td>\n",
       "    </tr>\n",
       "  </tbody>\n",
       "</table>\n",
       "<p>5 rows × 24 columns</p>\n",
       "</div>"
      ],
      "text/plain": [
       "   CLAIMNO  REPORTEDDT      LOSSDT     BIRTHDT SICCD  CAUSEOFINJURY_FLTRCD  \\\n",
       "0        1  2016-10-12  2016-09-06  1987-07-27  5199                   8.0   \n",
       "1        2  2016-10-12  2016-09-12  1977-04-29  5199                   7.0   \n",
       "2        3  2016-10-12  2016-09-23  1800-01-01  5199                   6.0   \n",
       "3        4  2016-10-26  2016-10-07         NaN  8748                   8.0   \n",
       "4        5  2016-10-26  2016-10-07         NaN  8748                   8.0   \n",
       "\n",
       "   BODYPART_FLTRCD RTRN_TOWORKIND  NATUREOFINJURYCD LOSSSTATECD  ...  \\\n",
       "0             39.0              U              10.0          MO  ...   \n",
       "1             39.0              U              36.0          MA  ...   \n",
       "2             39.0              U              52.0          MA  ...   \n",
       "3             69.0              Y              10.0          PA  ...   \n",
       "4             69.0              Y              10.0          PA  ...   \n",
       "\n",
       "   CLMNT_LON  CLMNT_STATECD  INSUREDSTATECD  CLMNT_NA_cleaned_root  \\\n",
       "0 -74.178010             NJ              MO         triquillagibbs   \n",
       "1 -71.336869             MA              MO       jameschamberlain   \n",
       "2   0.000000             MA              MO          donnathompson   \n",
       "3 -74.571367             NJ              PA                wcadmin   \n",
       "4 -74.570548             NJ              PA                wcadmin   \n",
       "\n",
       "   N_PRVDR_NAME_NONPHYS_cleaned_root N_REFRING_PHYS_final_root  \\\n",
       "0                                NaN                       NaN   \n",
       "1                                NaN                       NaN   \n",
       "2                                NaN                       NaN   \n",
       "3                                NaN                       NaN   \n",
       "4                                NaN                       NaN   \n",
       "\n",
       "      INSUREDNA_cleaned_root N_PAYTO_NAME_cleaned_root  \\\n",
       "0            centricgroupllc                       NaN   \n",
       "1            centricgroupllc                       NaN   \n",
       "2            centricgroupllc                       NaN   \n",
       "3  2016adminhomeofficeclaims                       NaN   \n",
       "4            2016adminwcscwc                       NaN   \n",
       "\n",
       "  Prov_Name_All_final_root TARGET  \n",
       "0                      NaN    0.0  \n",
       "1                      NaN    0.0  \n",
       "2                      NaN    0.0  \n",
       "3                      NaN    0.0  \n",
       "4                      NaN    0.0  \n",
       "\n",
       "[5 rows x 24 columns]"
      ]
     },
     "execution_count": 5,
     "metadata": {},
     "output_type": "execute_result"
    }
   ],
   "source": [
    "train.head()"
   ]
  },
  {
   "cell_type": "code",
   "execution_count": 6,
   "metadata": {},
   "outputs": [
    {
     "data": {
      "text/html": [
       "<div>\n",
       "<style scoped>\n",
       "    .dataframe tbody tr th:only-of-type {\n",
       "        vertical-align: middle;\n",
       "    }\n",
       "\n",
       "    .dataframe tbody tr th {\n",
       "        vertical-align: top;\n",
       "    }\n",
       "\n",
       "    .dataframe thead th {\n",
       "        text-align: right;\n",
       "    }\n",
       "</style>\n",
       "<table border=\"1\" class=\"dataframe\">\n",
       "  <thead>\n",
       "    <tr style=\"text-align: right;\">\n",
       "      <th></th>\n",
       "      <th>CLAIMNO</th>\n",
       "      <th>CAUSEOFINJURY_FLTRCD</th>\n",
       "      <th>BODYPART_FLTRCD</th>\n",
       "      <th>NATUREOFINJURYCD</th>\n",
       "      <th>INSUREDLAT</th>\n",
       "      <th>INSUREDLON</th>\n",
       "      <th>CLMNT_LAT</th>\n",
       "      <th>CLMNT_LON</th>\n",
       "      <th>TARGET</th>\n",
       "    </tr>\n",
       "  </thead>\n",
       "  <tbody>\n",
       "    <tr>\n",
       "      <th>count</th>\n",
       "      <td>50000.000000</td>\n",
       "      <td>49981.000000</td>\n",
       "      <td>49984.000000</td>\n",
       "      <td>49984.000000</td>\n",
       "      <td>50000.000000</td>\n",
       "      <td>50000.000000</td>\n",
       "      <td>49751.000000</td>\n",
       "      <td>49751.000000</td>\n",
       "      <td>50000.000000</td>\n",
       "    </tr>\n",
       "    <tr>\n",
       "      <th>mean</th>\n",
       "      <td>25000.500000</td>\n",
       "      <td>5.851864</td>\n",
       "      <td>54.133603</td>\n",
       "      <td>44.493898</td>\n",
       "      <td>38.568179</td>\n",
       "      <td>-87.486055</td>\n",
       "      <td>37.426115</td>\n",
       "      <td>-86.774721</td>\n",
       "      <td>0.034520</td>\n",
       "    </tr>\n",
       "    <tr>\n",
       "      <th>std</th>\n",
       "      <td>14433.901067</td>\n",
       "      <td>2.245021</td>\n",
       "      <td>24.977218</td>\n",
       "      <td>24.090068</td>\n",
       "      <td>4.448390</td>\n",
       "      <td>15.512958</td>\n",
       "      <td>6.925168</td>\n",
       "      <td>19.668966</td>\n",
       "      <td>0.182562</td>\n",
       "    </tr>\n",
       "    <tr>\n",
       "      <th>min</th>\n",
       "      <td>1.000000</td>\n",
       "      <td>0.000000</td>\n",
       "      <td>10.000000</td>\n",
       "      <td>1.000000</td>\n",
       "      <td>0.000000</td>\n",
       "      <td>-157.917290</td>\n",
       "      <td>0.000000</td>\n",
       "      <td>-158.040920</td>\n",
       "      <td>0.000000</td>\n",
       "    </tr>\n",
       "    <tr>\n",
       "      <th>25%</th>\n",
       "      <td>12500.750000</td>\n",
       "      <td>4.000000</td>\n",
       "      <td>39.000000</td>\n",
       "      <td>28.000000</td>\n",
       "      <td>35.537616</td>\n",
       "      <td>-94.764500</td>\n",
       "      <td>34.131955</td>\n",
       "      <td>-95.839564</td>\n",
       "      <td>0.000000</td>\n",
       "    </tr>\n",
       "    <tr>\n",
       "      <th>50%</th>\n",
       "      <td>25000.500000</td>\n",
       "      <td>6.000000</td>\n",
       "      <td>50.000000</td>\n",
       "      <td>49.000000</td>\n",
       "      <td>40.229357</td>\n",
       "      <td>-83.258560</td>\n",
       "      <td>39.747290</td>\n",
       "      <td>-84.150673</td>\n",
       "      <td>0.000000</td>\n",
       "    </tr>\n",
       "    <tr>\n",
       "      <th>75%</th>\n",
       "      <td>37500.250000</td>\n",
       "      <td>8.000000</td>\n",
       "      <td>69.000000</td>\n",
       "      <td>52.000000</td>\n",
       "      <td>41.374330</td>\n",
       "      <td>-74.239419</td>\n",
       "      <td>41.279688</td>\n",
       "      <td>-74.912201</td>\n",
       "      <td>0.000000</td>\n",
       "    </tr>\n",
       "    <tr>\n",
       "      <th>max</th>\n",
       "      <td>50000.000000</td>\n",
       "      <td>11.000000</td>\n",
       "      <td>90.000000</td>\n",
       "      <td>91.000000</td>\n",
       "      <td>61.194220</td>\n",
       "      <td>0.000000</td>\n",
       "      <td>62.288830</td>\n",
       "      <td>0.000000</td>\n",
       "      <td>1.000000</td>\n",
       "    </tr>\n",
       "  </tbody>\n",
       "</table>\n",
       "</div>"
      ],
      "text/plain": [
       "            CLAIMNO  CAUSEOFINJURY_FLTRCD  BODYPART_FLTRCD  NATUREOFINJURYCD  \\\n",
       "count  50000.000000          49981.000000     49984.000000      49984.000000   \n",
       "mean   25000.500000              5.851864        54.133603         44.493898   \n",
       "std    14433.901067              2.245021        24.977218         24.090068   \n",
       "min        1.000000              0.000000        10.000000          1.000000   \n",
       "25%    12500.750000              4.000000        39.000000         28.000000   \n",
       "50%    25000.500000              6.000000        50.000000         49.000000   \n",
       "75%    37500.250000              8.000000        69.000000         52.000000   \n",
       "max    50000.000000             11.000000        90.000000         91.000000   \n",
       "\n",
       "         INSUREDLAT    INSUREDLON     CLMNT_LAT     CLMNT_LON        TARGET  \n",
       "count  50000.000000  50000.000000  49751.000000  49751.000000  50000.000000  \n",
       "mean      38.568179    -87.486055     37.426115    -86.774721      0.034520  \n",
       "std        4.448390     15.512958      6.925168     19.668966      0.182562  \n",
       "min        0.000000   -157.917290      0.000000   -158.040920      0.000000  \n",
       "25%       35.537616    -94.764500     34.131955    -95.839564      0.000000  \n",
       "50%       40.229357    -83.258560     39.747290    -84.150673      0.000000  \n",
       "75%       41.374330    -74.239419     41.279688    -74.912201      0.000000  \n",
       "max       61.194220      0.000000     62.288830      0.000000      1.000000  "
      ]
     },
     "execution_count": 6,
     "metadata": {},
     "output_type": "execute_result"
    }
   ],
   "source": [
    "train.describe()"
   ]
  },
  {
   "cell_type": "code",
   "execution_count": 7,
   "metadata": {},
   "outputs": [
    {
     "name": "stdout",
     "output_type": "stream",
     "text": [
      "<class 'pandas.core.frame.DataFrame'>\n",
      "RangeIndex: 50000 entries, 0 to 49999\n",
      "Data columns (total 24 columns):\n",
      "CLAIMNO                              50000 non-null int64\n",
      "REPORTEDDT                           50000 non-null object\n",
      "LOSSDT                               50000 non-null object\n",
      "BIRTHDT                              49816 non-null object\n",
      "SICCD                                49988 non-null object\n",
      "CAUSEOFINJURY_FLTRCD                 49981 non-null float64\n",
      "BODYPART_FLTRCD                      49984 non-null float64\n",
      "RTRN_TOWORKIND                       49999 non-null object\n",
      "NATUREOFINJURYCD                     49984 non-null float64\n",
      "LOSSSTATECD                          49556 non-null object\n",
      "WORK_LOC_STATECD                     49934 non-null object\n",
      "INSUREDLAT                           50000 non-null float64\n",
      "INSUREDLON                           50000 non-null float64\n",
      "CLMNT_LAT                            49751 non-null float64\n",
      "CLMNT_LON                            49751 non-null float64\n",
      "CLMNT_STATECD                        49353 non-null object\n",
      "INSUREDSTATECD                       49971 non-null object\n",
      "CLMNT_NA_cleaned_root                49501 non-null object\n",
      "N_PRVDR_NAME_NONPHYS_cleaned_root    10771 non-null object\n",
      "N_REFRING_PHYS_final_root            9745 non-null object\n",
      "INSUREDNA_cleaned_root               49938 non-null object\n",
      "N_PAYTO_NAME_cleaned_root            33228 non-null object\n",
      "Prov_Name_All_final_root             24134 non-null object\n",
      "TARGET                               50000 non-null float64\n",
      "dtypes: float64(8), int64(1), object(15)\n",
      "memory usage: 9.2+ MB\n"
     ]
    }
   ],
   "source": [
    "# Check columns\n",
    "train.info(verbose=True)"
   ]
  },
  {
   "cell_type": "code",
   "execution_count": 8,
   "metadata": {},
   "outputs": [
    {
     "data": {
      "text/html": [
       "<div>\n",
       "<style scoped>\n",
       "    .dataframe tbody tr th:only-of-type {\n",
       "        vertical-align: middle;\n",
       "    }\n",
       "\n",
       "    .dataframe tbody tr th {\n",
       "        vertical-align: top;\n",
       "    }\n",
       "\n",
       "    .dataframe thead th {\n",
       "        text-align: right;\n",
       "    }\n",
       "</style>\n",
       "<table border=\"1\" class=\"dataframe\">\n",
       "  <thead>\n",
       "    <tr style=\"text-align: right;\">\n",
       "      <th></th>\n",
       "      <th>Column</th>\n",
       "      <th>Description</th>\n",
       "    </tr>\n",
       "  </thead>\n",
       "  <tbody>\n",
       "    <tr>\n",
       "      <th>0</th>\n",
       "      <td>CLAIMNO</td>\n",
       "      <td>Unique ID generated for each claim</td>\n",
       "    </tr>\n",
       "    <tr>\n",
       "      <th>1</th>\n",
       "      <td>REPORTEDDT</td>\n",
       "      <td>Date when the claim is reported</td>\n",
       "    </tr>\n",
       "    <tr>\n",
       "      <th>2</th>\n",
       "      <td>LOSSDT</td>\n",
       "      <td>Date when the loss has actually happened</td>\n",
       "    </tr>\n",
       "    <tr>\n",
       "      <th>3</th>\n",
       "      <td>BIRTHDT</td>\n",
       "      <td>Birth date of the claimant</td>\n",
       "    </tr>\n",
       "    <tr>\n",
       "      <th>4</th>\n",
       "      <td>SICCD</td>\n",
       "      <td>Industry code of the company</td>\n",
       "    </tr>\n",
       "    <tr>\n",
       "      <th>5</th>\n",
       "      <td>CAUSEOFINJURY_FLTRCD</td>\n",
       "      <td>Cause of Injury code</td>\n",
       "    </tr>\n",
       "    <tr>\n",
       "      <th>6</th>\n",
       "      <td>BODYPART_FLTRCD</td>\n",
       "      <td>Code for Body part where injury happened</td>\n",
       "    </tr>\n",
       "    <tr>\n",
       "      <th>7</th>\n",
       "      <td>RTRN_TOWORKIND</td>\n",
       "      <td>Has returned to work after the injury or not</td>\n",
       "    </tr>\n",
       "    <tr>\n",
       "      <th>8</th>\n",
       "      <td>NATUREOFINJURYCD</td>\n",
       "      <td>Code for the nature of Injury</td>\n",
       "    </tr>\n",
       "    <tr>\n",
       "      <th>9</th>\n",
       "      <td>LOSSSTATECD</td>\n",
       "      <td>Location where the loss has happened</td>\n",
       "    </tr>\n",
       "    <tr>\n",
       "      <th>10</th>\n",
       "      <td>WORK_LOC_STATECD</td>\n",
       "      <td>Location of work</td>\n",
       "    </tr>\n",
       "    <tr>\n",
       "      <th>11</th>\n",
       "      <td>INSUREDLAT</td>\n",
       "      <td>Insurer's Latitude(Location)</td>\n",
       "    </tr>\n",
       "    <tr>\n",
       "      <th>12</th>\n",
       "      <td>INSUREDLON</td>\n",
       "      <td>Insurer's longitude(location)</td>\n",
       "    </tr>\n",
       "    <tr>\n",
       "      <th>13</th>\n",
       "      <td>CLMNT_LAT</td>\n",
       "      <td>Claimant's Latitude(Location)</td>\n",
       "    </tr>\n",
       "    <tr>\n",
       "      <th>14</th>\n",
       "      <td>CLMNT_LON</td>\n",
       "      <td>Claimant's Longitude(Location)</td>\n",
       "    </tr>\n",
       "    <tr>\n",
       "      <th>15</th>\n",
       "      <td>CLMNT_STATECD</td>\n",
       "      <td>Claimant's state</td>\n",
       "    </tr>\n",
       "    <tr>\n",
       "      <th>16</th>\n",
       "      <td>INSUREDSTATECD</td>\n",
       "      <td>Insurer's state</td>\n",
       "    </tr>\n",
       "    <tr>\n",
       "      <th>17</th>\n",
       "      <td>CLMNT_NA_cleaned_root</td>\n",
       "      <td>Name of the person who claimed</td>\n",
       "    </tr>\n",
       "    <tr>\n",
       "      <th>18</th>\n",
       "      <td>N_PRVDR_NAME_NONPHYS_cleaned_root</td>\n",
       "      <td>Name of the Physician</td>\n",
       "    </tr>\n",
       "    <tr>\n",
       "      <th>19</th>\n",
       "      <td>N_REFRING_PHYS_final_root</td>\n",
       "      <td>Name of the Referred Physician</td>\n",
       "    </tr>\n",
       "    <tr>\n",
       "      <th>20</th>\n",
       "      <td>INSUREDNA_cleaned_root</td>\n",
       "      <td>Name of the Insurer</td>\n",
       "    </tr>\n",
       "    <tr>\n",
       "      <th>21</th>\n",
       "      <td>N_PAYTO_NAME_cleaned_root</td>\n",
       "      <td>Hospital Name</td>\n",
       "    </tr>\n",
       "    <tr>\n",
       "      <th>22</th>\n",
       "      <td>Prov_Name_All_final_root</td>\n",
       "      <td>Name of the Doctor</td>\n",
       "    </tr>\n",
       "    <tr>\n",
       "      <th>23</th>\n",
       "      <td>TARGET</td>\n",
       "      <td>Target</td>\n",
       "    </tr>\n",
       "  </tbody>\n",
       "</table>\n",
       "</div>"
      ],
      "text/plain": [
       "                               Column  \\\n",
       "0                             CLAIMNO   \n",
       "1                          REPORTEDDT   \n",
       "2                              LOSSDT   \n",
       "3                             BIRTHDT   \n",
       "4                               SICCD   \n",
       "5                CAUSEOFINJURY_FLTRCD   \n",
       "6                     BODYPART_FLTRCD   \n",
       "7                      RTRN_TOWORKIND   \n",
       "8                    NATUREOFINJURYCD   \n",
       "9                         LOSSSTATECD   \n",
       "10                   WORK_LOC_STATECD   \n",
       "11                         INSUREDLAT   \n",
       "12                         INSUREDLON   \n",
       "13                          CLMNT_LAT   \n",
       "14                          CLMNT_LON   \n",
       "15                      CLMNT_STATECD   \n",
       "16                     INSUREDSTATECD   \n",
       "17              CLMNT_NA_cleaned_root   \n",
       "18  N_PRVDR_NAME_NONPHYS_cleaned_root   \n",
       "19          N_REFRING_PHYS_final_root   \n",
       "20             INSUREDNA_cleaned_root   \n",
       "21          N_PAYTO_NAME_cleaned_root   \n",
       "22           Prov_Name_All_final_root   \n",
       "23                             TARGET   \n",
       "\n",
       "                                     Description  \n",
       "0             Unique ID generated for each claim  \n",
       "1                Date when the claim is reported  \n",
       "2       Date when the loss has actually happened  \n",
       "3                     Birth date of the claimant  \n",
       "4                   Industry code of the company  \n",
       "5                           Cause of Injury code  \n",
       "6      Code for Body part where injury happened   \n",
       "7   Has returned to work after the injury or not  \n",
       "8                  Code for the nature of Injury  \n",
       "9           Location where the loss has happened  \n",
       "10                              Location of work  \n",
       "11                  Insurer's Latitude(Location)  \n",
       "12                 Insurer's longitude(location)  \n",
       "13                 Claimant's Latitude(Location)  \n",
       "14                Claimant's Longitude(Location)  \n",
       "15                              Claimant's state  \n",
       "16                               Insurer's state  \n",
       "17                Name of the person who claimed  \n",
       "18                        Name of the Physician   \n",
       "19                Name of the Referred Physician  \n",
       "20                           Name of the Insurer  \n",
       "21                                 Hospital Name  \n",
       "22                            Name of the Doctor  \n",
       "23                                        Target  "
      ]
     },
     "execution_count": 8,
     "metadata": {},
     "output_type": "execute_result"
    }
   ],
   "source": [
    "col_des"
   ]
  },
  {
   "cell_type": "code",
   "execution_count": 9,
   "metadata": {},
   "outputs": [
    {
     "name": "stdout",
     "output_type": "stream",
     "text": [
      "Number of duplicate rows = 0\n"
     ]
    }
   ],
   "source": [
    "# checking for duplicate values\n",
    "dups=train.duplicated()\n",
    "print('Number of duplicate rows = %d' % (dups.sum()))\n"
   ]
  },
  {
   "cell_type": "code",
   "execution_count": 10,
   "metadata": {},
   "outputs": [
    {
     "name": "stdout",
     "output_type": "stream",
     "text": [
      "True\n",
      "CLAIMNO                                  0\n",
      "REPORTEDDT                               0\n",
      "LOSSDT                                   0\n",
      "BIRTHDT                                184\n",
      "SICCD                                   12\n",
      "CAUSEOFINJURY_FLTRCD                    19\n",
      "BODYPART_FLTRCD                         16\n",
      "RTRN_TOWORKIND                           1\n",
      "NATUREOFINJURYCD                        16\n",
      "LOSSSTATECD                            444\n",
      "WORK_LOC_STATECD                        66\n",
      "INSUREDLAT                               0\n",
      "INSUREDLON                               0\n",
      "CLMNT_LAT                              249\n",
      "CLMNT_LON                              249\n",
      "CLMNT_STATECD                          647\n",
      "INSUREDSTATECD                          29\n",
      "CLMNT_NA_cleaned_root                  499\n",
      "N_PRVDR_NAME_NONPHYS_cleaned_root    39229\n",
      "N_REFRING_PHYS_final_root            40255\n",
      "INSUREDNA_cleaned_root                  62\n",
      "N_PAYTO_NAME_cleaned_root            16772\n",
      "Prov_Name_All_final_root             25866\n",
      "TARGET                                   0\n",
      "dtype: int64\n"
     ]
    }
   ],
   "source": [
    "#checking for missing values \n",
    "print(train.isnull().values.any())\n",
    "# Sum of missing values in different columns\n",
    "print(train.isnull().sum())"
   ]
  },
  {
   "cell_type": "code",
   "execution_count": 11,
   "metadata": {},
   "outputs": [
    {
     "data": {
      "text/plain": [
       "{'percent_missing ': CLAIMNO                               0.000\n",
       " REPORTEDDT                            0.000\n",
       " LOSSDT                                0.000\n",
       " BIRTHDT                               0.368\n",
       " SICCD                                 0.024\n",
       " CAUSEOFINJURY_FLTRCD                  0.038\n",
       " BODYPART_FLTRCD                       0.032\n",
       " RTRN_TOWORKIND                        0.002\n",
       " NATUREOFINJURYCD                      0.032\n",
       " LOSSSTATECD                           0.888\n",
       " WORK_LOC_STATECD                      0.132\n",
       " INSUREDLAT                            0.000\n",
       " INSUREDLON                            0.000\n",
       " CLMNT_LAT                             0.498\n",
       " CLMNT_LON                             0.498\n",
       " CLMNT_STATECD                         1.294\n",
       " INSUREDSTATECD                        0.058\n",
       " CLMNT_NA_cleaned_root                 0.998\n",
       " N_PRVDR_NAME_NONPHYS_cleaned_root    78.458\n",
       " N_REFRING_PHYS_final_root            80.510\n",
       " INSUREDNA_cleaned_root                0.124\n",
       " N_PAYTO_NAME_cleaned_root            33.544\n",
       " Prov_Name_All_final_root             51.732\n",
       " TARGET                                0.000\n",
       " dtype: float64}"
      ]
     },
     "execution_count": 11,
     "metadata": {},
     "output_type": "execute_result"
    }
   ],
   "source": [
    "per_mis = train.isnull().sum() * 100 / len(train)\n",
    "data = {'percent_missing ': per_mis}\n",
    "data"
   ]
  },
  {
   "cell_type": "code",
   "execution_count": null,
   "metadata": {},
   "outputs": [],
   "source": []
  },
  {
   "cell_type": "markdown",
   "metadata": {},
   "source": [
    "### Droping columns which is not needed in the classification \n"
   ]
  },
  {
   "cell_type": "code",
   "execution_count": 12,
   "metadata": {},
   "outputs": [],
   "source": [
    "train.drop(['CLAIMNO','REPORTEDDT','LOSSDT','N_PAYTO_NAME_cleaned_root','Prov_Name_All_final_root','INSUREDNA_cleaned_root',\n",
    "                   'N_REFRING_PHYS_final_root','CLMNT_NA_cleaned_root','N_PRVDR_NAME_NONPHYS_cleaned_root'],axis=1,inplace=True)\n",
    "\n",
    "test.drop(['CLAIMNO','REPORTEDDT','LOSSDT','N_PAYTO_NAME_cleaned_root','Prov_Name_All_final_root','INSUREDNA_cleaned_root',\n",
    "                   'N_REFRING_PHYS_final_root','CLMNT_NA_cleaned_root','N_PRVDR_NAME_NONPHYS_cleaned_root'],axis=1,inplace=True)"
   ]
  },
  {
   "cell_type": "code",
   "execution_count": 13,
   "metadata": {},
   "outputs": [
    {
     "data": {
      "text/html": [
       "<div>\n",
       "<style scoped>\n",
       "    .dataframe tbody tr th:only-of-type {\n",
       "        vertical-align: middle;\n",
       "    }\n",
       "\n",
       "    .dataframe tbody tr th {\n",
       "        vertical-align: top;\n",
       "    }\n",
       "\n",
       "    .dataframe thead th {\n",
       "        text-align: right;\n",
       "    }\n",
       "</style>\n",
       "<table border=\"1\" class=\"dataframe\">\n",
       "  <thead>\n",
       "    <tr style=\"text-align: right;\">\n",
       "      <th></th>\n",
       "      <th>BIRTHDT</th>\n",
       "      <th>SICCD</th>\n",
       "      <th>CAUSEOFINJURY_FLTRCD</th>\n",
       "      <th>BODYPART_FLTRCD</th>\n",
       "      <th>RTRN_TOWORKIND</th>\n",
       "      <th>NATUREOFINJURYCD</th>\n",
       "      <th>LOSSSTATECD</th>\n",
       "      <th>WORK_LOC_STATECD</th>\n",
       "      <th>INSUREDLAT</th>\n",
       "      <th>INSUREDLON</th>\n",
       "      <th>CLMNT_LAT</th>\n",
       "      <th>CLMNT_LON</th>\n",
       "      <th>CLMNT_STATECD</th>\n",
       "      <th>INSUREDSTATECD</th>\n",
       "      <th>TARGET</th>\n",
       "    </tr>\n",
       "  </thead>\n",
       "  <tbody>\n",
       "    <tr>\n",
       "      <th>0</th>\n",
       "      <td>1987-07-27</td>\n",
       "      <td>5199</td>\n",
       "      <td>8.0</td>\n",
       "      <td>39.0</td>\n",
       "      <td>U</td>\n",
       "      <td>10.0</td>\n",
       "      <td>MO</td>\n",
       "      <td>MO</td>\n",
       "      <td>38.683566</td>\n",
       "      <td>-90.402551</td>\n",
       "      <td>40.744900</td>\n",
       "      <td>-74.178010</td>\n",
       "      <td>NJ</td>\n",
       "      <td>MO</td>\n",
       "      <td>0.0</td>\n",
       "    </tr>\n",
       "    <tr>\n",
       "      <th>1</th>\n",
       "      <td>1977-04-29</td>\n",
       "      <td>5199</td>\n",
       "      <td>7.0</td>\n",
       "      <td>39.0</td>\n",
       "      <td>U</td>\n",
       "      <td>36.0</td>\n",
       "      <td>MA</td>\n",
       "      <td>MO</td>\n",
       "      <td>38.683566</td>\n",
       "      <td>-90.402551</td>\n",
       "      <td>41.982333</td>\n",
       "      <td>-71.336869</td>\n",
       "      <td>MA</td>\n",
       "      <td>MO</td>\n",
       "      <td>0.0</td>\n",
       "    </tr>\n",
       "    <tr>\n",
       "      <th>2</th>\n",
       "      <td>1800-01-01</td>\n",
       "      <td>5199</td>\n",
       "      <td>6.0</td>\n",
       "      <td>39.0</td>\n",
       "      <td>U</td>\n",
       "      <td>52.0</td>\n",
       "      <td>MA</td>\n",
       "      <td>MO</td>\n",
       "      <td>38.683566</td>\n",
       "      <td>-90.402551</td>\n",
       "      <td>0.000000</td>\n",
       "      <td>0.000000</td>\n",
       "      <td>MA</td>\n",
       "      <td>MO</td>\n",
       "      <td>0.0</td>\n",
       "    </tr>\n",
       "    <tr>\n",
       "      <th>3</th>\n",
       "      <td>NaN</td>\n",
       "      <td>8748</td>\n",
       "      <td>8.0</td>\n",
       "      <td>69.0</td>\n",
       "      <td>Y</td>\n",
       "      <td>10.0</td>\n",
       "      <td>PA</td>\n",
       "      <td>PA</td>\n",
       "      <td>40.623995</td>\n",
       "      <td>-75.335088</td>\n",
       "      <td>40.645290</td>\n",
       "      <td>-74.571367</td>\n",
       "      <td>NJ</td>\n",
       "      <td>PA</td>\n",
       "      <td>0.0</td>\n",
       "    </tr>\n",
       "    <tr>\n",
       "      <th>4</th>\n",
       "      <td>NaN</td>\n",
       "      <td>8748</td>\n",
       "      <td>8.0</td>\n",
       "      <td>69.0</td>\n",
       "      <td>Y</td>\n",
       "      <td>10.0</td>\n",
       "      <td>PA</td>\n",
       "      <td>PA</td>\n",
       "      <td>40.623995</td>\n",
       "      <td>-75.335088</td>\n",
       "      <td>40.644471</td>\n",
       "      <td>-74.570548</td>\n",
       "      <td>NJ</td>\n",
       "      <td>PA</td>\n",
       "      <td>0.0</td>\n",
       "    </tr>\n",
       "  </tbody>\n",
       "</table>\n",
       "</div>"
      ],
      "text/plain": [
       "      BIRTHDT SICCD  CAUSEOFINJURY_FLTRCD  BODYPART_FLTRCD RTRN_TOWORKIND  \\\n",
       "0  1987-07-27  5199                   8.0             39.0              U   \n",
       "1  1977-04-29  5199                   7.0             39.0              U   \n",
       "2  1800-01-01  5199                   6.0             39.0              U   \n",
       "3         NaN  8748                   8.0             69.0              Y   \n",
       "4         NaN  8748                   8.0             69.0              Y   \n",
       "\n",
       "   NATUREOFINJURYCD LOSSSTATECD WORK_LOC_STATECD  INSUREDLAT  INSUREDLON  \\\n",
       "0              10.0          MO               MO   38.683566  -90.402551   \n",
       "1              36.0          MA               MO   38.683566  -90.402551   \n",
       "2              52.0          MA               MO   38.683566  -90.402551   \n",
       "3              10.0          PA               PA   40.623995  -75.335088   \n",
       "4              10.0          PA               PA   40.623995  -75.335088   \n",
       "\n",
       "   CLMNT_LAT  CLMNT_LON CLMNT_STATECD INSUREDSTATECD  TARGET  \n",
       "0  40.744900 -74.178010            NJ             MO     0.0  \n",
       "1  41.982333 -71.336869            MA             MO     0.0  \n",
       "2   0.000000   0.000000            MA             MO     0.0  \n",
       "3  40.645290 -74.571367            NJ             PA     0.0  \n",
       "4  40.644471 -74.570548            NJ             PA     0.0  "
      ]
     },
     "execution_count": 13,
     "metadata": {},
     "output_type": "execute_result"
    }
   ],
   "source": [
    "train.head()"
   ]
  },
  {
   "cell_type": "code",
   "execution_count": 14,
   "metadata": {},
   "outputs": [
    {
     "data": {
      "text/plain": [
       "(50000, 15)"
      ]
     },
     "execution_count": 14,
     "metadata": {},
     "output_type": "execute_result"
    }
   ],
   "source": [
    "train.shape"
   ]
  },
  {
   "cell_type": "code",
   "execution_count": 15,
   "metadata": {},
   "outputs": [],
   "source": [
    "# Adding age column\n",
    "import datetime\n",
    "train['BIRTHDT'] = pd.to_datetime(train['BIRTHDT'], format='%Y-%m-%d')\n",
    "age= [(datetime.datetime.now()-i).days/365 for i in train['BIRTHDT']]\n",
    "train['Age']=age"
   ]
  },
  {
   "cell_type": "code",
   "execution_count": 16,
   "metadata": {},
   "outputs": [
    {
     "data": {
      "text/plain": [
       "0         34.043836\n",
       "1         44.293151\n",
       "2        221.734247\n",
       "3               NaN\n",
       "4               NaN\n",
       "            ...    \n",
       "49995     39.032877\n",
       "49996     24.567123\n",
       "49997     48.186301\n",
       "49998     35.126027\n",
       "49999     24.536986\n",
       "Name: Age, Length: 50000, dtype: float64"
      ]
     },
     "execution_count": 16,
     "metadata": {},
     "output_type": "execute_result"
    }
   ],
   "source": [
    "train['Age']"
   ]
  },
  {
   "cell_type": "code",
   "execution_count": 17,
   "metadata": {},
   "outputs": [],
   "source": [
    "train['Age'].fillna(int(train['Age'].mean()),inplace=True)\n",
    "train.drop('BIRTHDT',axis=1,inplace=True)"
   ]
  },
  {
   "cell_type": "code",
   "execution_count": 18,
   "metadata": {},
   "outputs": [
    {
     "data": {
      "text/html": [
       "<div>\n",
       "<style scoped>\n",
       "    .dataframe tbody tr th:only-of-type {\n",
       "        vertical-align: middle;\n",
       "    }\n",
       "\n",
       "    .dataframe tbody tr th {\n",
       "        vertical-align: top;\n",
       "    }\n",
       "\n",
       "    .dataframe thead th {\n",
       "        text-align: right;\n",
       "    }\n",
       "</style>\n",
       "<table border=\"1\" class=\"dataframe\">\n",
       "  <thead>\n",
       "    <tr style=\"text-align: right;\">\n",
       "      <th></th>\n",
       "      <th>SICCD</th>\n",
       "      <th>CAUSEOFINJURY_FLTRCD</th>\n",
       "      <th>BODYPART_FLTRCD</th>\n",
       "      <th>RTRN_TOWORKIND</th>\n",
       "      <th>NATUREOFINJURYCD</th>\n",
       "      <th>LOSSSTATECD</th>\n",
       "      <th>WORK_LOC_STATECD</th>\n",
       "      <th>INSUREDLAT</th>\n",
       "      <th>INSUREDLON</th>\n",
       "      <th>CLMNT_LAT</th>\n",
       "      <th>CLMNT_LON</th>\n",
       "      <th>CLMNT_STATECD</th>\n",
       "      <th>INSUREDSTATECD</th>\n",
       "      <th>TARGET</th>\n",
       "      <th>Age</th>\n",
       "    </tr>\n",
       "  </thead>\n",
       "  <tbody>\n",
       "    <tr>\n",
       "      <th>0</th>\n",
       "      <td>5199</td>\n",
       "      <td>8.0</td>\n",
       "      <td>39.0</td>\n",
       "      <td>U</td>\n",
       "      <td>10.0</td>\n",
       "      <td>MO</td>\n",
       "      <td>MO</td>\n",
       "      <td>38.683566</td>\n",
       "      <td>-90.402551</td>\n",
       "      <td>40.744900</td>\n",
       "      <td>-74.178010</td>\n",
       "      <td>NJ</td>\n",
       "      <td>MO</td>\n",
       "      <td>0.0</td>\n",
       "      <td>34.043836</td>\n",
       "    </tr>\n",
       "    <tr>\n",
       "      <th>1</th>\n",
       "      <td>5199</td>\n",
       "      <td>7.0</td>\n",
       "      <td>39.0</td>\n",
       "      <td>U</td>\n",
       "      <td>36.0</td>\n",
       "      <td>MA</td>\n",
       "      <td>MO</td>\n",
       "      <td>38.683566</td>\n",
       "      <td>-90.402551</td>\n",
       "      <td>41.982333</td>\n",
       "      <td>-71.336869</td>\n",
       "      <td>MA</td>\n",
       "      <td>MO</td>\n",
       "      <td>0.0</td>\n",
       "      <td>44.293151</td>\n",
       "    </tr>\n",
       "    <tr>\n",
       "      <th>2</th>\n",
       "      <td>5199</td>\n",
       "      <td>6.0</td>\n",
       "      <td>39.0</td>\n",
       "      <td>U</td>\n",
       "      <td>52.0</td>\n",
       "      <td>MA</td>\n",
       "      <td>MO</td>\n",
       "      <td>38.683566</td>\n",
       "      <td>-90.402551</td>\n",
       "      <td>0.000000</td>\n",
       "      <td>0.000000</td>\n",
       "      <td>MA</td>\n",
       "      <td>MO</td>\n",
       "      <td>0.0</td>\n",
       "      <td>221.734247</td>\n",
       "    </tr>\n",
       "    <tr>\n",
       "      <th>3</th>\n",
       "      <td>8748</td>\n",
       "      <td>8.0</td>\n",
       "      <td>69.0</td>\n",
       "      <td>Y</td>\n",
       "      <td>10.0</td>\n",
       "      <td>PA</td>\n",
       "      <td>PA</td>\n",
       "      <td>40.623995</td>\n",
       "      <td>-75.335088</td>\n",
       "      <td>40.645290</td>\n",
       "      <td>-74.571367</td>\n",
       "      <td>NJ</td>\n",
       "      <td>PA</td>\n",
       "      <td>0.0</td>\n",
       "      <td>51.000000</td>\n",
       "    </tr>\n",
       "    <tr>\n",
       "      <th>4</th>\n",
       "      <td>8748</td>\n",
       "      <td>8.0</td>\n",
       "      <td>69.0</td>\n",
       "      <td>Y</td>\n",
       "      <td>10.0</td>\n",
       "      <td>PA</td>\n",
       "      <td>PA</td>\n",
       "      <td>40.623995</td>\n",
       "      <td>-75.335088</td>\n",
       "      <td>40.644471</td>\n",
       "      <td>-74.570548</td>\n",
       "      <td>NJ</td>\n",
       "      <td>PA</td>\n",
       "      <td>0.0</td>\n",
       "      <td>51.000000</td>\n",
       "    </tr>\n",
       "  </tbody>\n",
       "</table>\n",
       "</div>"
      ],
      "text/plain": [
       "  SICCD  CAUSEOFINJURY_FLTRCD  BODYPART_FLTRCD RTRN_TOWORKIND  \\\n",
       "0  5199                   8.0             39.0              U   \n",
       "1  5199                   7.0             39.0              U   \n",
       "2  5199                   6.0             39.0              U   \n",
       "3  8748                   8.0             69.0              Y   \n",
       "4  8748                   8.0             69.0              Y   \n",
       "\n",
       "   NATUREOFINJURYCD LOSSSTATECD WORK_LOC_STATECD  INSUREDLAT  INSUREDLON  \\\n",
       "0              10.0          MO               MO   38.683566  -90.402551   \n",
       "1              36.0          MA               MO   38.683566  -90.402551   \n",
       "2              52.0          MA               MO   38.683566  -90.402551   \n",
       "3              10.0          PA               PA   40.623995  -75.335088   \n",
       "4              10.0          PA               PA   40.623995  -75.335088   \n",
       "\n",
       "   CLMNT_LAT  CLMNT_LON CLMNT_STATECD INSUREDSTATECD  TARGET         Age  \n",
       "0  40.744900 -74.178010            NJ             MO     0.0   34.043836  \n",
       "1  41.982333 -71.336869            MA             MO     0.0   44.293151  \n",
       "2   0.000000   0.000000            MA             MO     0.0  221.734247  \n",
       "3  40.645290 -74.571367            NJ             PA     0.0   51.000000  \n",
       "4  40.644471 -74.570548            NJ             PA     0.0   51.000000  "
      ]
     },
     "execution_count": 18,
     "metadata": {},
     "output_type": "execute_result"
    }
   ],
   "source": [
    "train.head()"
   ]
  },
  {
   "cell_type": "code",
   "execution_count": 19,
   "metadata": {},
   "outputs": [],
   "source": [
    "test['BIRTHDT'] = pd.to_datetime(test['BIRTHDT'], format='%Y-%m-%d')\n",
    "age= [(datetime.datetime.now()-i).days/365 for i in test['BIRTHDT']]\n",
    "test['Age']=age\n",
    "test['Age'].fillna(int(test['Age'].mean()),inplace=True)\n",
    "test.drop('BIRTHDT',axis=1,inplace=True)"
   ]
  },
  {
   "cell_type": "code",
   "execution_count": 20,
   "metadata": {},
   "outputs": [
    {
     "data": {
      "text/html": [
       "<div>\n",
       "<style scoped>\n",
       "    .dataframe tbody tr th:only-of-type {\n",
       "        vertical-align: middle;\n",
       "    }\n",
       "\n",
       "    .dataframe tbody tr th {\n",
       "        vertical-align: top;\n",
       "    }\n",
       "\n",
       "    .dataframe thead th {\n",
       "        text-align: right;\n",
       "    }\n",
       "</style>\n",
       "<table border=\"1\" class=\"dataframe\">\n",
       "  <thead>\n",
       "    <tr style=\"text-align: right;\">\n",
       "      <th></th>\n",
       "      <th>SICCD</th>\n",
       "      <th>CAUSEOFINJURY_FLTRCD</th>\n",
       "      <th>BODYPART_FLTRCD</th>\n",
       "      <th>RTRN_TOWORKIND</th>\n",
       "      <th>NATUREOFINJURYCD</th>\n",
       "      <th>LOSSSTATECD</th>\n",
       "      <th>WORK_LOC_STATECD</th>\n",
       "      <th>INSUREDLAT</th>\n",
       "      <th>INSUREDLON</th>\n",
       "      <th>CLMNT_LAT</th>\n",
       "      <th>CLMNT_LON</th>\n",
       "      <th>CLMNT_STATECD</th>\n",
       "      <th>INSUREDSTATECD</th>\n",
       "      <th>Age</th>\n",
       "    </tr>\n",
       "  </thead>\n",
       "  <tbody>\n",
       "    <tr>\n",
       "      <th>0</th>\n",
       "      <td>3714</td>\n",
       "      <td>6.0</td>\n",
       "      <td>69.0</td>\n",
       "      <td>Y</td>\n",
       "      <td>49.0</td>\n",
       "      <td>IN</td>\n",
       "      <td>IN</td>\n",
       "      <td>38.330756</td>\n",
       "      <td>-87.584599</td>\n",
       "      <td>38.353296</td>\n",
       "      <td>-87.562580</td>\n",
       "      <td>IN</td>\n",
       "      <td>IN</td>\n",
       "      <td>35.876712</td>\n",
       "    </tr>\n",
       "    <tr>\n",
       "      <th>1</th>\n",
       "      <td>3711</td>\n",
       "      <td>4.0</td>\n",
       "      <td>90.0</td>\n",
       "      <td>Y</td>\n",
       "      <td>52.0</td>\n",
       "      <td>CA</td>\n",
       "      <td>CA</td>\n",
       "      <td>33.872700</td>\n",
       "      <td>-117.226130</td>\n",
       "      <td>33.862960</td>\n",
       "      <td>-117.443510</td>\n",
       "      <td>CA</td>\n",
       "      <td>CA</td>\n",
       "      <td>46.926027</td>\n",
       "    </tr>\n",
       "    <tr>\n",
       "      <th>2</th>\n",
       "      <td>8221</td>\n",
       "      <td>10.0</td>\n",
       "      <td>69.0</td>\n",
       "      <td>U</td>\n",
       "      <td>37.0</td>\n",
       "      <td>AZ</td>\n",
       "      <td>AZ</td>\n",
       "      <td>47.659840</td>\n",
       "      <td>-122.317740</td>\n",
       "      <td>33.459290</td>\n",
       "      <td>-111.721570</td>\n",
       "      <td>AZ</td>\n",
       "      <td>WA</td>\n",
       "      <td>30.610959</td>\n",
       "    </tr>\n",
       "    <tr>\n",
       "      <th>3</th>\n",
       "      <td>7922</td>\n",
       "      <td>8.0</td>\n",
       "      <td>69.0</td>\n",
       "      <td>Y</td>\n",
       "      <td>10.0</td>\n",
       "      <td>NY</td>\n",
       "      <td>NY</td>\n",
       "      <td>40.758111</td>\n",
       "      <td>-73.989806</td>\n",
       "      <td>40.759766</td>\n",
       "      <td>-73.928279</td>\n",
       "      <td>NY</td>\n",
       "      <td>NY</td>\n",
       "      <td>44.063014</td>\n",
       "    </tr>\n",
       "    <tr>\n",
       "      <th>4</th>\n",
       "      <td>8111</td>\n",
       "      <td>4.0</td>\n",
       "      <td>90.0</td>\n",
       "      <td>Y</td>\n",
       "      <td>1.0</td>\n",
       "      <td>CA</td>\n",
       "      <td>CA</td>\n",
       "      <td>34.058220</td>\n",
       "      <td>-118.445980</td>\n",
       "      <td>33.836400</td>\n",
       "      <td>-118.324240</td>\n",
       "      <td>CA</td>\n",
       "      <td>CA</td>\n",
       "      <td>40.282192</td>\n",
       "    </tr>\n",
       "  </tbody>\n",
       "</table>\n",
       "</div>"
      ],
      "text/plain": [
       "  SICCD  CAUSEOFINJURY_FLTRCD  BODYPART_FLTRCD RTRN_TOWORKIND  \\\n",
       "0  3714                   6.0             69.0              Y   \n",
       "1  3711                   4.0             90.0              Y   \n",
       "2  8221                  10.0             69.0              U   \n",
       "3  7922                   8.0             69.0              Y   \n",
       "4  8111                   4.0             90.0              Y   \n",
       "\n",
       "   NATUREOFINJURYCD LOSSSTATECD WORK_LOC_STATECD  INSUREDLAT  INSUREDLON  \\\n",
       "0              49.0          IN               IN   38.330756  -87.584599   \n",
       "1              52.0          CA               CA   33.872700 -117.226130   \n",
       "2              37.0          AZ               AZ   47.659840 -122.317740   \n",
       "3              10.0          NY               NY   40.758111  -73.989806   \n",
       "4               1.0          CA               CA   34.058220 -118.445980   \n",
       "\n",
       "   CLMNT_LAT   CLMNT_LON CLMNT_STATECD INSUREDSTATECD        Age  \n",
       "0  38.353296  -87.562580            IN             IN  35.876712  \n",
       "1  33.862960 -117.443510            CA             CA  46.926027  \n",
       "2  33.459290 -111.721570            AZ             WA  30.610959  \n",
       "3  40.759766  -73.928279            NY             NY  44.063014  \n",
       "4  33.836400 -118.324240            CA             CA  40.282192  "
      ]
     },
     "execution_count": 20,
     "metadata": {},
     "output_type": "execute_result"
    }
   ],
   "source": [
    "test.head()"
   ]
  },
  {
   "cell_type": "code",
   "execution_count": 21,
   "metadata": {},
   "outputs": [
    {
     "data": {
      "text/html": [
       "<div>\n",
       "<style scoped>\n",
       "    .dataframe tbody tr th:only-of-type {\n",
       "        vertical-align: middle;\n",
       "    }\n",
       "\n",
       "    .dataframe tbody tr th {\n",
       "        vertical-align: top;\n",
       "    }\n",
       "\n",
       "    .dataframe thead th {\n",
       "        text-align: right;\n",
       "    }\n",
       "</style>\n",
       "<table border=\"1\" class=\"dataframe\">\n",
       "  <thead>\n",
       "    <tr style=\"text-align: right;\">\n",
       "      <th></th>\n",
       "      <th>CAUSEOFINJURY_FLTRCD</th>\n",
       "      <th>BODYPART_FLTRCD</th>\n",
       "      <th>NATUREOFINJURYCD</th>\n",
       "      <th>INSUREDLAT</th>\n",
       "      <th>INSUREDLON</th>\n",
       "      <th>CLMNT_LAT</th>\n",
       "      <th>CLMNT_LON</th>\n",
       "      <th>TARGET</th>\n",
       "      <th>Age</th>\n",
       "    </tr>\n",
       "  </thead>\n",
       "  <tbody>\n",
       "    <tr>\n",
       "      <th>count</th>\n",
       "      <td>49981.000000</td>\n",
       "      <td>49984.000000</td>\n",
       "      <td>49984.000000</td>\n",
       "      <td>50000.000000</td>\n",
       "      <td>50000.000000</td>\n",
       "      <td>49751.000000</td>\n",
       "      <td>49751.000000</td>\n",
       "      <td>50000.000000</td>\n",
       "      <td>50000.000000</td>\n",
       "    </tr>\n",
       "    <tr>\n",
       "      <th>mean</th>\n",
       "      <td>5.851864</td>\n",
       "      <td>54.133603</td>\n",
       "      <td>44.493898</td>\n",
       "      <td>38.568179</td>\n",
       "      <td>-87.486055</td>\n",
       "      <td>37.426115</td>\n",
       "      <td>-86.774721</td>\n",
       "      <td>0.034520</td>\n",
       "      <td>51.991510</td>\n",
       "    </tr>\n",
       "    <tr>\n",
       "      <th>std</th>\n",
       "      <td>2.245021</td>\n",
       "      <td>24.977218</td>\n",
       "      <td>24.090068</td>\n",
       "      <td>4.448390</td>\n",
       "      <td>15.512958</td>\n",
       "      <td>6.925168</td>\n",
       "      <td>19.668966</td>\n",
       "      <td>0.182562</td>\n",
       "      <td>31.787807</td>\n",
       "    </tr>\n",
       "    <tr>\n",
       "      <th>min</th>\n",
       "      <td>0.000000</td>\n",
       "      <td>10.000000</td>\n",
       "      <td>1.000000</td>\n",
       "      <td>0.000000</td>\n",
       "      <td>-157.917290</td>\n",
       "      <td>0.000000</td>\n",
       "      <td>-158.040920</td>\n",
       "      <td>0.000000</td>\n",
       "      <td>-174.767123</td>\n",
       "    </tr>\n",
       "    <tr>\n",
       "      <th>25%</th>\n",
       "      <td>4.000000</td>\n",
       "      <td>39.000000</td>\n",
       "      <td>28.000000</td>\n",
       "      <td>35.537616</td>\n",
       "      <td>-94.764500</td>\n",
       "      <td>34.131955</td>\n",
       "      <td>-95.839564</td>\n",
       "      <td>0.000000</td>\n",
       "      <td>35.008219</td>\n",
       "    </tr>\n",
       "    <tr>\n",
       "      <th>50%</th>\n",
       "      <td>6.000000</td>\n",
       "      <td>50.000000</td>\n",
       "      <td>49.000000</td>\n",
       "      <td>40.229357</td>\n",
       "      <td>-83.258560</td>\n",
       "      <td>39.747290</td>\n",
       "      <td>-84.150673</td>\n",
       "      <td>0.000000</td>\n",
       "      <td>47.887671</td>\n",
       "    </tr>\n",
       "    <tr>\n",
       "      <th>75%</th>\n",
       "      <td>8.000000</td>\n",
       "      <td>69.000000</td>\n",
       "      <td>52.000000</td>\n",
       "      <td>41.374330</td>\n",
       "      <td>-74.239419</td>\n",
       "      <td>41.279688</td>\n",
       "      <td>-74.912201</td>\n",
       "      <td>0.000000</td>\n",
       "      <td>59.570548</td>\n",
       "    </tr>\n",
       "    <tr>\n",
       "      <th>max</th>\n",
       "      <td>11.000000</td>\n",
       "      <td>90.000000</td>\n",
       "      <td>91.000000</td>\n",
       "      <td>61.194220</td>\n",
       "      <td>0.000000</td>\n",
       "      <td>62.288830</td>\n",
       "      <td>0.000000</td>\n",
       "      <td>1.000000</td>\n",
       "      <td>221.734247</td>\n",
       "    </tr>\n",
       "  </tbody>\n",
       "</table>\n",
       "</div>"
      ],
      "text/plain": [
       "       CAUSEOFINJURY_FLTRCD  BODYPART_FLTRCD  NATUREOFINJURYCD    INSUREDLAT  \\\n",
       "count          49981.000000     49984.000000      49984.000000  50000.000000   \n",
       "mean               5.851864        54.133603         44.493898     38.568179   \n",
       "std                2.245021        24.977218         24.090068      4.448390   \n",
       "min                0.000000        10.000000          1.000000      0.000000   \n",
       "25%                4.000000        39.000000         28.000000     35.537616   \n",
       "50%                6.000000        50.000000         49.000000     40.229357   \n",
       "75%                8.000000        69.000000         52.000000     41.374330   \n",
       "max               11.000000        90.000000         91.000000     61.194220   \n",
       "\n",
       "         INSUREDLON     CLMNT_LAT     CLMNT_LON        TARGET           Age  \n",
       "count  50000.000000  49751.000000  49751.000000  50000.000000  50000.000000  \n",
       "mean     -87.486055     37.426115    -86.774721      0.034520     51.991510  \n",
       "std       15.512958      6.925168     19.668966      0.182562     31.787807  \n",
       "min     -157.917290      0.000000   -158.040920      0.000000   -174.767123  \n",
       "25%      -94.764500     34.131955    -95.839564      0.000000     35.008219  \n",
       "50%      -83.258560     39.747290    -84.150673      0.000000     47.887671  \n",
       "75%      -74.239419     41.279688    -74.912201      0.000000     59.570548  \n",
       "max        0.000000     62.288830      0.000000      1.000000    221.734247  "
      ]
     },
     "execution_count": 21,
     "metadata": {},
     "output_type": "execute_result"
    }
   ],
   "source": [
    "train.describe()"
   ]
  },
  {
   "cell_type": "code",
   "execution_count": 22,
   "metadata": {},
   "outputs": [
    {
     "data": {
      "text/plain": [
       "(50000, 15)"
      ]
     },
     "execution_count": 22,
     "metadata": {},
     "output_type": "execute_result"
    }
   ],
   "source": [
    "train.shape"
   ]
  },
  {
   "cell_type": "code",
   "execution_count": 23,
   "metadata": {},
   "outputs": [
    {
     "data": {
      "text/plain": [
       "(27995, 14)"
      ]
     },
     "execution_count": 23,
     "metadata": {},
     "output_type": "execute_result"
    }
   ],
   "source": [
    "test.shape"
   ]
  },
  {
   "cell_type": "code",
   "execution_count": 26,
   "metadata": {},
   "outputs": [],
   "source": [
    "train['SICCD']=train['SICCD'].replace('\\t','nan')\n",
    "test['SICCD']=test['SICCD'].replace('\\t','nan')"
   ]
  },
  {
   "cell_type": "code",
   "execution_count": 27,
   "metadata": {},
   "outputs": [],
   "source": [
    "# filling null values \n",
    "for i in train.columns:\n",
    "    if(train[i].dtypes =='object'):\n",
    "        train[i].fillna(train[i].mode()[0],inplace=True)\n",
    "#         test[i].fillna(test[i].mode()[0],inplace=True)\n",
    "        \n",
    "    else:\n",
    "        train[i].fillna(int(train[i].mean()),inplace=True)\n",
    "#         test[i].fillna(int(test[i].mean()),inplace=True)"
   ]
  },
  {
   "cell_type": "code",
   "execution_count": 28,
   "metadata": {},
   "outputs": [],
   "source": [
    "for i in test.columns:\n",
    "    if(test[i].dtypes =='object'):\n",
    "        test[i].fillna(test[i].mode()[0],inplace=True)\n",
    "        \n",
    "    else:\n",
    "        test[i].fillna(int(test[i].mean()),inplace=True)"
   ]
  },
  {
   "cell_type": "code",
   "execution_count": 29,
   "metadata": {},
   "outputs": [
    {
     "data": {
      "text/plain": [
       "{'percent_missing ': SICCD                   0.0\n",
       " CAUSEOFINJURY_FLTRCD    0.0\n",
       " BODYPART_FLTRCD         0.0\n",
       " RTRN_TOWORKIND          0.0\n",
       " NATUREOFINJURYCD        0.0\n",
       " LOSSSTATECD             0.0\n",
       " WORK_LOC_STATECD        0.0\n",
       " INSUREDLAT              0.0\n",
       " INSUREDLON              0.0\n",
       " CLMNT_LAT               0.0\n",
       " CLMNT_LON               0.0\n",
       " CLMNT_STATECD           0.0\n",
       " INSUREDSTATECD          0.0\n",
       " TARGET                  0.0\n",
       " Age                     0.0\n",
       " dtype: float64}"
      ]
     },
     "execution_count": 29,
     "metadata": {},
     "output_type": "execute_result"
    }
   ],
   "source": [
    "#check for missing data \n",
    "col=[]\n",
    "vals=[]\n",
    "for i in train.columns:\n",
    "    col.append(i)\n",
    "    vals.append(len(train[i].unique()))\n",
    "per_mis = train.isnull().sum() * 100 / len(train)\n",
    "data = {'percent_missing ': per_mis}\n",
    "data\n"
   ]
  },
  {
   "cell_type": "markdown",
   "metadata": {},
   "source": [
    "####  Since we dont have any missing data now we can proceed for further"
   ]
  },
  {
   "cell_type": "markdown",
   "metadata": {},
   "source": [
    "###  Making Target variable of Training data as our Y variable"
   ]
  },
  {
   "cell_type": "code",
   "execution_count": 30,
   "metadata": {},
   "outputs": [],
   "source": [
    "y = train['TARGET']\n",
    "train.drop(['TARGET'],axis=1,inplace=True) # droping the column from the final training data "
   ]
  },
  {
   "cell_type": "code",
   "execution_count": 31,
   "metadata": {},
   "outputs": [
    {
     "data": {
      "text/plain": [
       "(50000, 14)"
      ]
     },
     "execution_count": 31,
     "metadata": {},
     "output_type": "execute_result"
    }
   ],
   "source": [
    "train.shape"
   ]
  },
  {
   "cell_type": "code",
   "execution_count": 32,
   "metadata": {},
   "outputs": [
    {
     "data": {
      "text/plain": [
       "(27995, 14)"
      ]
     },
     "execution_count": 32,
     "metadata": {},
     "output_type": "execute_result"
    }
   ],
   "source": [
    "test.shape"
   ]
  },
  {
   "cell_type": "code",
   "execution_count": 33,
   "metadata": {},
   "outputs": [
    {
     "name": "stdout",
     "output_type": "stream",
     "text": [
      "SICCD\n",
      "RTRN_TOWORKIND\n",
      "LOSSSTATECD\n",
      "WORK_LOC_STATECD\n",
      "CLMNT_STATECD\n",
      "INSUREDSTATECD\n"
     ]
    }
   ],
   "source": [
    "for i in train.columns:\n",
    "    if (train[i].dtype=='object'):\n",
    "        print(i)"
   ]
  },
  {
   "cell_type": "code",
   "execution_count": 34,
   "metadata": {},
   "outputs": [],
   "source": [
    "#"
   ]
  },
  {
   "cell_type": "code",
   "execution_count": null,
   "metadata": {},
   "outputs": [],
   "source": []
  },
  {
   "cell_type": "code",
   "execution_count": 35,
   "metadata": {},
   "outputs": [],
   "source": [
    "#train_dummy = pd.get_dummies(train_df[['SICCD','RTRN_TOWORKIND','LOSSSTATECD','WORK_LOC_STATECD','CLMNT_STATECD','INSUREDSTATECD']])\n",
    "#test_dummy = pd.get_dummies(test_df[['SICCD','RTRN_TOWORKIND','LOSSSTATECD','WORK_LOC_STATECD','CLMNT_STATECD','INSUREDSTATECD']])"
   ]
  },
  {
   "cell_type": "code",
   "execution_count": null,
   "metadata": {},
   "outputs": [],
   "source": []
  },
  {
   "cell_type": "code",
   "execution_count": 36,
   "metadata": {},
   "outputs": [
    {
     "data": {
      "text/plain": [
       "0        5199\n",
       "1        5199\n",
       "2        5199\n",
       "3        8748\n",
       "4        8748\n",
       "         ... \n",
       "49995    6324\n",
       "49996    3711\n",
       "49997    6021\n",
       "49998    6021\n",
       "49999    5065\n",
       "Name: SICCD, Length: 50000, dtype: object"
      ]
     },
     "execution_count": 36,
     "metadata": {},
     "output_type": "execute_result"
    }
   ],
   "source": [
    "train['SICCD']"
   ]
  },
  {
   "cell_type": "code",
   "execution_count": 37,
   "metadata": {},
   "outputs": [],
   "source": [
    "train_dummy = pd.get_dummies(train[['SICCD','RTRN_TOWORKIND','LOSSSTATECD','WORK_LOC_STATECD','CLMNT_STATECD','INSUREDSTATECD']])\n",
    "test_dummy = pd.get_dummies(test[['SICCD','RTRN_TOWORKIND','LOSSSTATECD','WORK_LOC_STATECD','CLMNT_STATECD','INSUREDSTATECD']])"
   ]
  },
  {
   "cell_type": "code",
   "execution_count": 38,
   "metadata": {
    "scrolled": true
   },
   "outputs": [
    {
     "data": {
      "text/html": [
       "<div>\n",
       "<style scoped>\n",
       "    .dataframe tbody tr th:only-of-type {\n",
       "        vertical-align: middle;\n",
       "    }\n",
       "\n",
       "    .dataframe tbody tr th {\n",
       "        vertical-align: top;\n",
       "    }\n",
       "\n",
       "    .dataframe thead th {\n",
       "        text-align: right;\n",
       "    }\n",
       "</style>\n",
       "<table border=\"1\" class=\"dataframe\">\n",
       "  <thead>\n",
       "    <tr style=\"text-align: right;\">\n",
       "      <th></th>\n",
       "      <th>SICCD_0134</th>\n",
       "      <th>SICCD_0181</th>\n",
       "      <th>SICCD_0191</th>\n",
       "      <th>SICCD_0211</th>\n",
       "      <th>SICCD_0212</th>\n",
       "      <th>SICCD_0213</th>\n",
       "      <th>SICCD_0241</th>\n",
       "      <th>SICCD_0272</th>\n",
       "      <th>SICCD_0722</th>\n",
       "      <th>SICCD_0723</th>\n",
       "      <th>...</th>\n",
       "      <th>INSUREDSTATECD_SD</th>\n",
       "      <th>INSUREDSTATECD_TN</th>\n",
       "      <th>INSUREDSTATECD_TX</th>\n",
       "      <th>INSUREDSTATECD_UT</th>\n",
       "      <th>INSUREDSTATECD_VA</th>\n",
       "      <th>INSUREDSTATECD_VT</th>\n",
       "      <th>INSUREDSTATECD_WA</th>\n",
       "      <th>INSUREDSTATECD_WI</th>\n",
       "      <th>INSUREDSTATECD_WV</th>\n",
       "      <th>INSUREDSTATECD_WY</th>\n",
       "    </tr>\n",
       "  </thead>\n",
       "  <tbody>\n",
       "    <tr>\n",
       "      <th>0</th>\n",
       "      <td>0</td>\n",
       "      <td>0</td>\n",
       "      <td>0</td>\n",
       "      <td>0</td>\n",
       "      <td>0</td>\n",
       "      <td>0</td>\n",
       "      <td>0</td>\n",
       "      <td>0</td>\n",
       "      <td>0</td>\n",
       "      <td>0</td>\n",
       "      <td>...</td>\n",
       "      <td>0</td>\n",
       "      <td>0</td>\n",
       "      <td>0</td>\n",
       "      <td>0</td>\n",
       "      <td>0</td>\n",
       "      <td>0</td>\n",
       "      <td>0</td>\n",
       "      <td>0</td>\n",
       "      <td>0</td>\n",
       "      <td>0</td>\n",
       "    </tr>\n",
       "    <tr>\n",
       "      <th>1</th>\n",
       "      <td>0</td>\n",
       "      <td>0</td>\n",
       "      <td>0</td>\n",
       "      <td>0</td>\n",
       "      <td>0</td>\n",
       "      <td>0</td>\n",
       "      <td>0</td>\n",
       "      <td>0</td>\n",
       "      <td>0</td>\n",
       "      <td>0</td>\n",
       "      <td>...</td>\n",
       "      <td>0</td>\n",
       "      <td>0</td>\n",
       "      <td>0</td>\n",
       "      <td>0</td>\n",
       "      <td>0</td>\n",
       "      <td>0</td>\n",
       "      <td>0</td>\n",
       "      <td>0</td>\n",
       "      <td>0</td>\n",
       "      <td>0</td>\n",
       "    </tr>\n",
       "    <tr>\n",
       "      <th>2</th>\n",
       "      <td>0</td>\n",
       "      <td>0</td>\n",
       "      <td>0</td>\n",
       "      <td>0</td>\n",
       "      <td>0</td>\n",
       "      <td>0</td>\n",
       "      <td>0</td>\n",
       "      <td>0</td>\n",
       "      <td>0</td>\n",
       "      <td>0</td>\n",
       "      <td>...</td>\n",
       "      <td>0</td>\n",
       "      <td>0</td>\n",
       "      <td>0</td>\n",
       "      <td>0</td>\n",
       "      <td>0</td>\n",
       "      <td>0</td>\n",
       "      <td>0</td>\n",
       "      <td>0</td>\n",
       "      <td>0</td>\n",
       "      <td>0</td>\n",
       "    </tr>\n",
       "    <tr>\n",
       "      <th>3</th>\n",
       "      <td>0</td>\n",
       "      <td>0</td>\n",
       "      <td>0</td>\n",
       "      <td>0</td>\n",
       "      <td>0</td>\n",
       "      <td>0</td>\n",
       "      <td>0</td>\n",
       "      <td>0</td>\n",
       "      <td>0</td>\n",
       "      <td>0</td>\n",
       "      <td>...</td>\n",
       "      <td>0</td>\n",
       "      <td>0</td>\n",
       "      <td>0</td>\n",
       "      <td>0</td>\n",
       "      <td>0</td>\n",
       "      <td>0</td>\n",
       "      <td>0</td>\n",
       "      <td>0</td>\n",
       "      <td>0</td>\n",
       "      <td>0</td>\n",
       "    </tr>\n",
       "    <tr>\n",
       "      <th>4</th>\n",
       "      <td>0</td>\n",
       "      <td>0</td>\n",
       "      <td>0</td>\n",
       "      <td>0</td>\n",
       "      <td>0</td>\n",
       "      <td>0</td>\n",
       "      <td>0</td>\n",
       "      <td>0</td>\n",
       "      <td>0</td>\n",
       "      <td>0</td>\n",
       "      <td>...</td>\n",
       "      <td>0</td>\n",
       "      <td>0</td>\n",
       "      <td>0</td>\n",
       "      <td>0</td>\n",
       "      <td>0</td>\n",
       "      <td>0</td>\n",
       "      <td>0</td>\n",
       "      <td>0</td>\n",
       "      <td>0</td>\n",
       "      <td>0</td>\n",
       "    </tr>\n",
       "  </tbody>\n",
       "</table>\n",
       "<p>5 rows × 836 columns</p>\n",
       "</div>"
      ],
      "text/plain": [
       "   SICCD_0134  SICCD_0181  SICCD_0191  SICCD_0211  SICCD_0212  SICCD_0213  \\\n",
       "0           0           0           0           0           0           0   \n",
       "1           0           0           0           0           0           0   \n",
       "2           0           0           0           0           0           0   \n",
       "3           0           0           0           0           0           0   \n",
       "4           0           0           0           0           0           0   \n",
       "\n",
       "   SICCD_0241  SICCD_0272  SICCD_0722  SICCD_0723  ...  INSUREDSTATECD_SD  \\\n",
       "0           0           0           0           0  ...                  0   \n",
       "1           0           0           0           0  ...                  0   \n",
       "2           0           0           0           0  ...                  0   \n",
       "3           0           0           0           0  ...                  0   \n",
       "4           0           0           0           0  ...                  0   \n",
       "\n",
       "   INSUREDSTATECD_TN  INSUREDSTATECD_TX  INSUREDSTATECD_UT  INSUREDSTATECD_VA  \\\n",
       "0                  0                  0                  0                  0   \n",
       "1                  0                  0                  0                  0   \n",
       "2                  0                  0                  0                  0   \n",
       "3                  0                  0                  0                  0   \n",
       "4                  0                  0                  0                  0   \n",
       "\n",
       "   INSUREDSTATECD_VT  INSUREDSTATECD_WA  INSUREDSTATECD_WI  INSUREDSTATECD_WV  \\\n",
       "0                  0                  0                  0                  0   \n",
       "1                  0                  0                  0                  0   \n",
       "2                  0                  0                  0                  0   \n",
       "3                  0                  0                  0                  0   \n",
       "4                  0                  0                  0                  0   \n",
       "\n",
       "   INSUREDSTATECD_WY  \n",
       "0                  0  \n",
       "1                  0  \n",
       "2                  0  \n",
       "3                  0  \n",
       "4                  0  \n",
       "\n",
       "[5 rows x 836 columns]"
      ]
     },
     "execution_count": 38,
     "metadata": {},
     "output_type": "execute_result"
    }
   ],
   "source": [
    "train_dummy.head()"
   ]
  },
  {
   "cell_type": "code",
   "execution_count": 39,
   "metadata": {},
   "outputs": [
    {
     "data": {
      "text/html": [
       "<div>\n",
       "<style scoped>\n",
       "    .dataframe tbody tr th:only-of-type {\n",
       "        vertical-align: middle;\n",
       "    }\n",
       "\n",
       "    .dataframe tbody tr th {\n",
       "        vertical-align: top;\n",
       "    }\n",
       "\n",
       "    .dataframe thead th {\n",
       "        text-align: right;\n",
       "    }\n",
       "</style>\n",
       "<table border=\"1\" class=\"dataframe\">\n",
       "  <thead>\n",
       "    <tr style=\"text-align: right;\">\n",
       "      <th></th>\n",
       "      <th>SICCD_0134</th>\n",
       "      <th>SICCD_0181</th>\n",
       "      <th>SICCD_0211</th>\n",
       "      <th>SICCD_0272</th>\n",
       "      <th>SICCD_0742</th>\n",
       "      <th>SICCD_0752</th>\n",
       "      <th>SICCD_1311</th>\n",
       "      <th>SICCD_1389</th>\n",
       "      <th>SICCD_1422</th>\n",
       "      <th>SICCD_1521</th>\n",
       "      <th>...</th>\n",
       "      <th>INSUREDSTATECD_SC</th>\n",
       "      <th>INSUREDSTATECD_SD</th>\n",
       "      <th>INSUREDSTATECD_TN</th>\n",
       "      <th>INSUREDSTATECD_TX</th>\n",
       "      <th>INSUREDSTATECD_UT</th>\n",
       "      <th>INSUREDSTATECD_VA</th>\n",
       "      <th>INSUREDSTATECD_VT</th>\n",
       "      <th>INSUREDSTATECD_WA</th>\n",
       "      <th>INSUREDSTATECD_WI</th>\n",
       "      <th>INSUREDSTATECD_WV</th>\n",
       "    </tr>\n",
       "  </thead>\n",
       "  <tbody>\n",
       "    <tr>\n",
       "      <th>0</th>\n",
       "      <td>0</td>\n",
       "      <td>0</td>\n",
       "      <td>0</td>\n",
       "      <td>0</td>\n",
       "      <td>0</td>\n",
       "      <td>0</td>\n",
       "      <td>0</td>\n",
       "      <td>0</td>\n",
       "      <td>0</td>\n",
       "      <td>0</td>\n",
       "      <td>...</td>\n",
       "      <td>0</td>\n",
       "      <td>0</td>\n",
       "      <td>0</td>\n",
       "      <td>0</td>\n",
       "      <td>0</td>\n",
       "      <td>0</td>\n",
       "      <td>0</td>\n",
       "      <td>0</td>\n",
       "      <td>0</td>\n",
       "      <td>0</td>\n",
       "    </tr>\n",
       "    <tr>\n",
       "      <th>1</th>\n",
       "      <td>0</td>\n",
       "      <td>0</td>\n",
       "      <td>0</td>\n",
       "      <td>0</td>\n",
       "      <td>0</td>\n",
       "      <td>0</td>\n",
       "      <td>0</td>\n",
       "      <td>0</td>\n",
       "      <td>0</td>\n",
       "      <td>0</td>\n",
       "      <td>...</td>\n",
       "      <td>0</td>\n",
       "      <td>0</td>\n",
       "      <td>0</td>\n",
       "      <td>0</td>\n",
       "      <td>0</td>\n",
       "      <td>0</td>\n",
       "      <td>0</td>\n",
       "      <td>0</td>\n",
       "      <td>0</td>\n",
       "      <td>0</td>\n",
       "    </tr>\n",
       "    <tr>\n",
       "      <th>2</th>\n",
       "      <td>0</td>\n",
       "      <td>0</td>\n",
       "      <td>0</td>\n",
       "      <td>0</td>\n",
       "      <td>0</td>\n",
       "      <td>0</td>\n",
       "      <td>0</td>\n",
       "      <td>0</td>\n",
       "      <td>0</td>\n",
       "      <td>0</td>\n",
       "      <td>...</td>\n",
       "      <td>0</td>\n",
       "      <td>0</td>\n",
       "      <td>0</td>\n",
       "      <td>0</td>\n",
       "      <td>0</td>\n",
       "      <td>0</td>\n",
       "      <td>0</td>\n",
       "      <td>1</td>\n",
       "      <td>0</td>\n",
       "      <td>0</td>\n",
       "    </tr>\n",
       "    <tr>\n",
       "      <th>3</th>\n",
       "      <td>0</td>\n",
       "      <td>0</td>\n",
       "      <td>0</td>\n",
       "      <td>0</td>\n",
       "      <td>0</td>\n",
       "      <td>0</td>\n",
       "      <td>0</td>\n",
       "      <td>0</td>\n",
       "      <td>0</td>\n",
       "      <td>0</td>\n",
       "      <td>...</td>\n",
       "      <td>0</td>\n",
       "      <td>0</td>\n",
       "      <td>0</td>\n",
       "      <td>0</td>\n",
       "      <td>0</td>\n",
       "      <td>0</td>\n",
       "      <td>0</td>\n",
       "      <td>0</td>\n",
       "      <td>0</td>\n",
       "      <td>0</td>\n",
       "    </tr>\n",
       "    <tr>\n",
       "      <th>4</th>\n",
       "      <td>0</td>\n",
       "      <td>0</td>\n",
       "      <td>0</td>\n",
       "      <td>0</td>\n",
       "      <td>0</td>\n",
       "      <td>0</td>\n",
       "      <td>0</td>\n",
       "      <td>0</td>\n",
       "      <td>0</td>\n",
       "      <td>0</td>\n",
       "      <td>...</td>\n",
       "      <td>0</td>\n",
       "      <td>0</td>\n",
       "      <td>0</td>\n",
       "      <td>0</td>\n",
       "      <td>0</td>\n",
       "      <td>0</td>\n",
       "      <td>0</td>\n",
       "      <td>0</td>\n",
       "      <td>0</td>\n",
       "      <td>0</td>\n",
       "    </tr>\n",
       "  </tbody>\n",
       "</table>\n",
       "<p>5 rows × 649 columns</p>\n",
       "</div>"
      ],
      "text/plain": [
       "   SICCD_0134  SICCD_0181  SICCD_0211  SICCD_0272  SICCD_0742  SICCD_0752  \\\n",
       "0           0           0           0           0           0           0   \n",
       "1           0           0           0           0           0           0   \n",
       "2           0           0           0           0           0           0   \n",
       "3           0           0           0           0           0           0   \n",
       "4           0           0           0           0           0           0   \n",
       "\n",
       "   SICCD_1311  SICCD_1389  SICCD_1422  SICCD_1521  ...  INSUREDSTATECD_SC  \\\n",
       "0           0           0           0           0  ...                  0   \n",
       "1           0           0           0           0  ...                  0   \n",
       "2           0           0           0           0  ...                  0   \n",
       "3           0           0           0           0  ...                  0   \n",
       "4           0           0           0           0  ...                  0   \n",
       "\n",
       "   INSUREDSTATECD_SD  INSUREDSTATECD_TN  INSUREDSTATECD_TX  INSUREDSTATECD_UT  \\\n",
       "0                  0                  0                  0                  0   \n",
       "1                  0                  0                  0                  0   \n",
       "2                  0                  0                  0                  0   \n",
       "3                  0                  0                  0                  0   \n",
       "4                  0                  0                  0                  0   \n",
       "\n",
       "   INSUREDSTATECD_VA  INSUREDSTATECD_VT  INSUREDSTATECD_WA  INSUREDSTATECD_WI  \\\n",
       "0                  0                  0                  0                  0   \n",
       "1                  0                  0                  0                  0   \n",
       "2                  0                  0                  1                  0   \n",
       "3                  0                  0                  0                  0   \n",
       "4                  0                  0                  0                  0   \n",
       "\n",
       "   INSUREDSTATECD_WV  \n",
       "0                  0  \n",
       "1                  0  \n",
       "2                  0  \n",
       "3                  0  \n",
       "4                  0  \n",
       "\n",
       "[5 rows x 649 columns]"
      ]
     },
     "execution_count": 39,
     "metadata": {},
     "output_type": "execute_result"
    }
   ],
   "source": [
    "test_dummy.head()"
   ]
  },
  {
   "cell_type": "markdown",
   "metadata": {},
   "source": [
    "#### As shown above there are missing data from the test file ie from the various SICCD might be missing in test and similarly other columns "
   ]
  },
  {
   "cell_type": "markdown",
   "metadata": {},
   "source": [
    "#### Hence we need to add the missing data in the test file to make sure we have consistancey "
   ]
  },
  {
   "cell_type": "code",
   "execution_count": 40,
   "metadata": {},
   "outputs": [],
   "source": [
    "data_missing = set(train_dummy.columns)-set(test_dummy.columns)"
   ]
  },
  {
   "cell_type": "code",
   "execution_count": 41,
   "metadata": {},
   "outputs": [
    {
     "data": {
      "text/plain": [
       "{'CLMNT_STATECD_AE',\n",
       " 'CLMNT_STATECD_Co',\n",
       " 'CLMNT_STATECD_ES',\n",
       " 'CLMNT_STATECD_GU',\n",
       " 'CLMNT_STATECD_HI',\n",
       " 'CLMNT_STATECD_Ka',\n",
       " 'CLMNT_STATECD_ND',\n",
       " 'CLMNT_STATECD_SA',\n",
       " 'CLMNT_STATECD_SO',\n",
       " 'INSUREDSTATECD_AK',\n",
       " 'INSUREDSTATECD_FQ',\n",
       " 'INSUREDSTATECD_NL',\n",
       " 'INSUREDSTATECD_WY',\n",
       " 'LOSSSTATECD_BO',\n",
       " 'LOSSSTATECD_Ba',\n",
       " 'LOSSSTATECD_CH',\n",
       " 'LOSSSTATECD_GU',\n",
       " 'LOSSSTATECD_Gu',\n",
       " 'LOSSSTATECD_HO',\n",
       " 'LOSSSTATECD_NL',\n",
       " 'LOSSSTATECD_PR',\n",
       " 'LOSSSTATECD_Q.',\n",
       " 'LOSSSTATECD_SH',\n",
       " 'LOSSSTATECD_TE',\n",
       " 'LOSSSTATECD_TI',\n",
       " 'SICCD_0191',\n",
       " 'SICCD_0212',\n",
       " 'SICCD_0213',\n",
       " 'SICCD_0241',\n",
       " 'SICCD_0722',\n",
       " 'SICCD_0723',\n",
       " 'SICCD_1021',\n",
       " 'SICCD_1382',\n",
       " 'SICCD_1474',\n",
       " 'SICCD_1541',\n",
       " 'SICCD_1711',\n",
       " 'SICCD_1731',\n",
       " 'SICCD_1751',\n",
       " 'SICCD_1799',\n",
       " 'SICCD_1819',\n",
       " 'SICCD_2024',\n",
       " 'SICCD_2033',\n",
       " 'SICCD_2034',\n",
       " 'SICCD_2035',\n",
       " 'SICCD_2064',\n",
       " 'SICCD_2085',\n",
       " 'SICCD_2086',\n",
       " 'SICCD_2096',\n",
       " 'SICCD_2252',\n",
       " 'SICCD_2261',\n",
       " 'SICCD_2282',\n",
       " 'SICCD_2311',\n",
       " 'SICCD_2325',\n",
       " 'SICCD_2329',\n",
       " 'SICCD_2331',\n",
       " 'SICCD_2341',\n",
       " 'SICCD_2353',\n",
       " 'SICCD_2361',\n",
       " 'SICCD_2385',\n",
       " 'SICCD_2426',\n",
       " 'SICCD_2434',\n",
       " 'SICCD_2439',\n",
       " 'SICCD_2452',\n",
       " 'SICCD_2511',\n",
       " 'SICCD_2652',\n",
       " 'SICCD_2674',\n",
       " 'SICCD_2675',\n",
       " 'SICCD_2677',\n",
       " 'SICCD_2771',\n",
       " 'SICCD_2782',\n",
       " 'SICCD_2789',\n",
       " 'SICCD_2819',\n",
       " 'SICCD_2843',\n",
       " 'SICCD_2952',\n",
       " 'SICCD_2992',\n",
       " 'SICCD_3011',\n",
       " 'SICCD_3021',\n",
       " 'SICCD_3061',\n",
       " 'SICCD_3085',\n",
       " 'SICCD_3111',\n",
       " 'SICCD_3144',\n",
       " 'SICCD_3149',\n",
       " 'SICCD_3161',\n",
       " 'SICCD_3211',\n",
       " 'SICCD_3231',\n",
       " 'SICCD_3263',\n",
       " 'SICCD_3264',\n",
       " 'SICCD_3312',\n",
       " 'SICCD_3317',\n",
       " 'SICCD_3356',\n",
       " 'SICCD_3398',\n",
       " 'SICCD_3433',\n",
       " 'SICCD_3446',\n",
       " 'SICCD_3462',\n",
       " 'SICCD_3466',\n",
       " 'SICCD_3482',\n",
       " 'SICCD_3484',\n",
       " 'SICCD_3493',\n",
       " 'SICCD_3495',\n",
       " 'SICCD_3511',\n",
       " 'SICCD_3531',\n",
       " 'SICCD_3532',\n",
       " 'SICCD_3535',\n",
       " 'SICCD_3536',\n",
       " 'SICCD_3543',\n",
       " 'SICCD_3548',\n",
       " 'SICCD_3564',\n",
       " 'SICCD_3575',\n",
       " 'SICCD_3582',\n",
       " 'SICCD_3592',\n",
       " 'SICCD_3596',\n",
       " 'SICCD_3612',\n",
       " 'SICCD_3631',\n",
       " 'SICCD_3632',\n",
       " 'SICCD_3641',\n",
       " 'SICCD_3647',\n",
       " 'SICCD_3652',\n",
       " 'SICCD_3671',\n",
       " 'SICCD_3675',\n",
       " 'SICCD_3676',\n",
       " 'SICCD_3694',\n",
       " 'SICCD_3715',\n",
       " 'SICCD_3721',\n",
       " 'SICCD_3724',\n",
       " 'SICCD_3795',\n",
       " 'SICCD_3799',\n",
       " 'SICCD_3822',\n",
       " 'SICCD_3844',\n",
       " 'SICCD_3942',\n",
       " 'SICCD_3955',\n",
       " 'SICCD_3996',\n",
       " 'SICCD_4212',\n",
       " 'SICCD_4215',\n",
       " 'SICCD_4222',\n",
       " 'SICCD_4512',\n",
       " 'SICCD_4522',\n",
       " 'SICCD_4822',\n",
       " 'SICCD_4922',\n",
       " 'SICCD_4923',\n",
       " 'SICCD_4939',\n",
       " 'SICCD_4953',\n",
       " 'SICCD_5049',\n",
       " 'SICCD_5082',\n",
       " 'SICCD_5083',\n",
       " 'SICCD_5087',\n",
       " 'SICCD_5099',\n",
       " 'SICCD_5111',\n",
       " 'SICCD_5112',\n",
       " 'SICCD_5143',\n",
       " 'SICCD_5144',\n",
       " 'SICCD_5169',\n",
       " 'SICCD_5191',\n",
       " 'SICCD_5193',\n",
       " 'SICCD_5331',\n",
       " 'SICCD_5399',\n",
       " 'SICCD_5499',\n",
       " 'SICCD_5531',\n",
       " 'SICCD_5611',\n",
       " 'SICCD_5722',\n",
       " 'SICCD_5736',\n",
       " 'SICCD_5813',\n",
       " 'SICCD_5912',\n",
       " 'SICCD_5941',\n",
       " 'SICCD_5992',\n",
       " 'SICCD_5994',\n",
       " 'SICCD_6019',\n",
       " 'SICCD_6111',\n",
       " 'SICCD_6221',\n",
       " 'SICCD_6231',\n",
       " 'SICCD_6351',\n",
       " 'SICCD_6514',\n",
       " 'SICCD_6541',\n",
       " 'SICCD_6552',\n",
       " 'SICCD_7218',\n",
       " 'SICCD_7312',\n",
       " 'SICCD_7313',\n",
       " 'SICCD_7334',\n",
       " 'SICCD_7336',\n",
       " 'SICCD_7338',\n",
       " 'SICCD_7349',\n",
       " 'SICCD_7352',\n",
       " 'SICCD_7381',\n",
       " 'SICCD_7382',\n",
       " 'SICCD_7629',\n",
       " 'SICCD_7699',\n",
       " 'SICCD_7822',\n",
       " 'SICCD_7933',\n",
       " 'SICCD_7993',\n",
       " 'SICCD_8021',\n",
       " 'SICCD_8072',\n",
       " 'SICCD_8244',\n",
       " 'SICCD_8351',\n",
       " 'SICCD_8713',\n",
       " 'SICCD_8743',\n",
       " 'SICCD_9611',\n",
       " 'SICCD_9661',\n",
       " 'WORK_LOC_STATECD_AK',\n",
       " 'WORK_LOC_STATECD_ID'}"
      ]
     },
     "execution_count": 41,
     "metadata": {},
     "output_type": "execute_result"
    }
   ],
   "source": [
    "data_missing"
   ]
  },
  {
   "cell_type": "markdown",
   "metadata": {},
   "source": [
    "#### Adding the missing data and putting the value 0 for it "
   ]
  },
  {
   "cell_type": "code",
   "execution_count": 42,
   "metadata": {},
   "outputs": [],
   "source": [
    "for p in data_missing:\n",
    "    test_dummy[p] = 0"
   ]
  },
  {
   "cell_type": "code",
   "execution_count": 43,
   "metadata": {},
   "outputs": [
    {
     "data": {
      "text/plain": [
       "(27995, 847)"
      ]
     },
     "execution_count": 43,
     "metadata": {},
     "output_type": "execute_result"
    }
   ],
   "source": [
    "test_dummy.shape"
   ]
  },
  {
   "cell_type": "code",
   "execution_count": 44,
   "metadata": {},
   "outputs": [],
   "source": [
    "data_missing1 = set(test_dummy.columns)-set(train_dummy.columns)"
   ]
  },
  {
   "cell_type": "code",
   "execution_count": 45,
   "metadata": {},
   "outputs": [
    {
     "data": {
      "text/plain": [
       "{'CLMNT_STATECD_PE',\n",
       " 'LOSSSTATECD_NS',\n",
       " 'LOSSSTATECD_OS',\n",
       " 'LOSSSTATECD_ZH',\n",
       " 'SICCD_2299',\n",
       " 'SICCD_2531',\n",
       " 'SICCD_2591',\n",
       " 'SICCD_3586',\n",
       " 'SICCD_4619',\n",
       " 'SICCD_5145',\n",
       " 'WORK_LOC_STATECD_MT'}"
      ]
     },
     "execution_count": 45,
     "metadata": {},
     "output_type": "execute_result"
    }
   ],
   "source": [
    "data_missing1"
   ]
  },
  {
   "cell_type": "code",
   "execution_count": 46,
   "metadata": {},
   "outputs": [],
   "source": [
    "for q in data_missing1:\n",
    "    train_dummy[q] = 0"
   ]
  },
  {
   "cell_type": "code",
   "execution_count": 47,
   "metadata": {},
   "outputs": [
    {
     "data": {
      "text/plain": [
       "(27995, 847)"
      ]
     },
     "execution_count": 47,
     "metadata": {},
     "output_type": "execute_result"
    }
   ],
   "source": [
    "test_dummy.shape"
   ]
  },
  {
   "cell_type": "code",
   "execution_count": 48,
   "metadata": {},
   "outputs": [
    {
     "data": {
      "text/plain": [
       "(50000, 847)"
      ]
     },
     "execution_count": 48,
     "metadata": {},
     "output_type": "execute_result"
    }
   ],
   "source": [
    "train_dummy.shape"
   ]
  },
  {
   "cell_type": "markdown",
   "metadata": {},
   "source": [
    "#### Since both the dataframes are having equal number of columns we can further proceed"
   ]
  },
  {
   "cell_type": "code",
   "execution_count": 49,
   "metadata": {},
   "outputs": [
    {
     "name": "stdout",
     "output_type": "stream",
     "text": [
      "(50000, 14)\n",
      "(27995, 14)\n"
     ]
    }
   ],
   "source": [
    "print(train.shape)\n",
    "print(test.shape)"
   ]
  },
  {
   "cell_type": "markdown",
   "metadata": {},
   "source": [
    "#### removing all the columns having object data type and we have already created dummy for it "
   ]
  },
  {
   "cell_type": "code",
   "execution_count": 50,
   "metadata": {},
   "outputs": [],
   "source": [
    "train.drop(['SICCD','RTRN_TOWORKIND','LOSSSTATECD','WORK_LOC_STATECD','CLMNT_STATECD','INSUREDSTATECD'],axis=1,inplace=True)\n",
    "test.drop(['SICCD','RTRN_TOWORKIND','LOSSSTATECD','WORK_LOC_STATECD','CLMNT_STATECD','INSUREDSTATECD'],axis=1,inplace=True)"
   ]
  },
  {
   "cell_type": "code",
   "execution_count": 51,
   "metadata": {},
   "outputs": [],
   "source": [
    "final_train=pd.concat([train,train_dummy],axis=1)\n",
    "final_test=pd.concat([test,test_dummy],axis=1)"
   ]
  },
  {
   "cell_type": "code",
   "execution_count": 52,
   "metadata": {},
   "outputs": [
    {
     "name": "stdout",
     "output_type": "stream",
     "text": [
      "(50000, 855)\n",
      "(27995, 855)\n"
     ]
    }
   ],
   "source": [
    "print(final_train.shape)\n",
    "print(final_test.shape)"
   ]
  },
  {
   "cell_type": "markdown",
   "metadata": {},
   "source": [
    "#### Splitting the dataset "
   ]
  },
  {
   "cell_type": "code",
   "execution_count": 53,
   "metadata": {},
   "outputs": [],
   "source": [
    "x=final_train"
   ]
  },
  {
   "cell_type": "code",
   "execution_count": 54,
   "metadata": {},
   "outputs": [],
   "source": [
    "X_train, X_test, y_train, y_test = train_test_split( x, y, test_size=0.4, random_state=0)"
   ]
  },
  {
   "cell_type": "code",
   "execution_count": 55,
   "metadata": {},
   "outputs": [],
   "source": [
    "from imblearn.over_sampling import SMOTE"
   ]
  },
  {
   "cell_type": "code",
   "execution_count": 56,
   "metadata": {},
   "outputs": [],
   "source": [
    "sm = SMOTE(random_state=27, sampling_strategy=1.0)\n"
   ]
  },
  {
   "cell_type": "code",
   "execution_count": 57,
   "metadata": {},
   "outputs": [],
   "source": [
    "X_train, y_train = sm.fit_resample(X_train, y_train)"
   ]
  },
  {
   "cell_type": "markdown",
   "metadata": {},
   "source": [
    "####  Trying Random Forest "
   ]
  },
  {
   "cell_type": "code",
   "execution_count": 63,
   "metadata": {},
   "outputs": [
    {
     "data": {
      "text/plain": [
       "0.96085"
      ]
     },
     "execution_count": 63,
     "metadata": {},
     "output_type": "execute_result"
    }
   ],
   "source": [
    "ob = RandomForestClassifier(random_state=100,class_weight='balanced') \n",
    "ob.fit(X_train, y_train) \n",
    "y_pred = ob.predict(X_test) \n",
    "    \n",
    "ob.score(X_test, y_test)"
   ]
  },
  {
   "cell_type": "code",
   "execution_count": 59,
   "metadata": {},
   "outputs": [
    {
     "data": {
      "text/plain": [
       "0.16148148148148148"
      ]
     },
     "execution_count": 59,
     "metadata": {},
     "output_type": "execute_result"
    }
   ],
   "source": [
    "recall_score(y_test,y_pred)"
   ]
  },
  {
   "cell_type": "code",
   "execution_count": 60,
   "metadata": {},
   "outputs": [
    {
     "data": {
      "text/plain": [
       "0.3343558282208589"
      ]
     },
     "execution_count": 60,
     "metadata": {},
     "output_type": "execute_result"
    }
   ],
   "source": [
    "precision_score(y_test,y_pred)"
   ]
  },
  {
   "cell_type": "code",
   "execution_count": 61,
   "metadata": {},
   "outputs": [
    {
     "data": {
      "text/plain": [
       "0.21778221778221776"
      ]
     },
     "execution_count": 61,
     "metadata": {},
     "output_type": "execute_result"
    }
   ],
   "source": [
    "f1_score(y_test,y_pred)"
   ]
  },
  {
   "cell_type": "code",
   "execution_count": 68,
   "metadata": {},
   "outputs": [],
   "source": [
    "res_random = ob.predict_proba(final_test)[:,1]"
   ]
  },
  {
   "cell_type": "code",
   "execution_count": 64,
   "metadata": {},
   "outputs": [],
   "source": [
    "test_df= pd.read_csv('/home/shantam/Desktop/Supervised L1 30th July/Fraud_prediction_/test.csv')\n"
   ]
  },
  {
   "cell_type": "code",
   "execution_count": 65,
   "metadata": {},
   "outputs": [],
   "source": [
    "claim_no = test_df['CLAIMNO']"
   ]
  },
  {
   "cell_type": "code",
   "execution_count": 66,
   "metadata": {},
   "outputs": [],
   "source": [
    "output = pd.DataFrame(columns=['CLAIMNO','TARGET'])"
   ]
  },
  {
   "cell_type": "code",
   "execution_count": 67,
   "metadata": {},
   "outputs": [],
   "source": [
    "output['CLAIMNO'] = claim_no\n"
   ]
  },
  {
   "cell_type": "code",
   "execution_count": 69,
   "metadata": {},
   "outputs": [
    {
     "data": {
      "text/html": [
       "<div>\n",
       "<style scoped>\n",
       "    .dataframe tbody tr th:only-of-type {\n",
       "        vertical-align: middle;\n",
       "    }\n",
       "\n",
       "    .dataframe tbody tr th {\n",
       "        vertical-align: top;\n",
       "    }\n",
       "\n",
       "    .dataframe thead th {\n",
       "        text-align: right;\n",
       "    }\n",
       "</style>\n",
       "<table border=\"1\" class=\"dataframe\">\n",
       "  <thead>\n",
       "    <tr style=\"text-align: right;\">\n",
       "      <th></th>\n",
       "      <th>CLAIMNO</th>\n",
       "      <th>TARGET</th>\n",
       "    </tr>\n",
       "  </thead>\n",
       "  <tbody>\n",
       "    <tr>\n",
       "      <th>0</th>\n",
       "      <td>50001</td>\n",
       "      <td>0.75</td>\n",
       "    </tr>\n",
       "    <tr>\n",
       "      <th>1</th>\n",
       "      <td>50002</td>\n",
       "      <td>0.67</td>\n",
       "    </tr>\n",
       "    <tr>\n",
       "      <th>2</th>\n",
       "      <td>50003</td>\n",
       "      <td>0.57</td>\n",
       "    </tr>\n",
       "    <tr>\n",
       "      <th>3</th>\n",
       "      <td>50004</td>\n",
       "      <td>0.98</td>\n",
       "    </tr>\n",
       "    <tr>\n",
       "      <th>4</th>\n",
       "      <td>50005</td>\n",
       "      <td>0.68</td>\n",
       "    </tr>\n",
       "    <tr>\n",
       "      <th>...</th>\n",
       "      <td>...</td>\n",
       "      <td>...</td>\n",
       "    </tr>\n",
       "    <tr>\n",
       "      <th>27990</th>\n",
       "      <td>77991</td>\n",
       "      <td>0.60</td>\n",
       "    </tr>\n",
       "    <tr>\n",
       "      <th>27991</th>\n",
       "      <td>77992</td>\n",
       "      <td>0.69</td>\n",
       "    </tr>\n",
       "    <tr>\n",
       "      <th>27992</th>\n",
       "      <td>77993</td>\n",
       "      <td>0.56</td>\n",
       "    </tr>\n",
       "    <tr>\n",
       "      <th>27993</th>\n",
       "      <td>77994</td>\n",
       "      <td>0.64</td>\n",
       "    </tr>\n",
       "    <tr>\n",
       "      <th>27994</th>\n",
       "      <td>77995</td>\n",
       "      <td>0.43</td>\n",
       "    </tr>\n",
       "  </tbody>\n",
       "</table>\n",
       "<p>27995 rows × 2 columns</p>\n",
       "</div>"
      ],
      "text/plain": [
       "       CLAIMNO  TARGET\n",
       "0        50001    0.75\n",
       "1        50002    0.67\n",
       "2        50003    0.57\n",
       "3        50004    0.98\n",
       "4        50005    0.68\n",
       "...        ...     ...\n",
       "27990    77991    0.60\n",
       "27991    77992    0.69\n",
       "27992    77993    0.56\n",
       "27993    77994    0.64\n",
       "27994    77995    0.43\n",
       "\n",
       "[27995 rows x 2 columns]"
      ]
     },
     "execution_count": 69,
     "metadata": {},
     "output_type": "execute_result"
    }
   ],
   "source": [
    "output['TARGET'] = res_random\n",
    "\n",
    "output.to_csv('random_forest.csv',index=False)\n",
    "\n",
    "output"
   ]
  },
  {
   "cell_type": "code",
   "execution_count": 71,
   "metadata": {},
   "outputs": [],
   "source": [
    "from sklearn.ensemble import GradientBoostingClassifier\n",
    "from sklearn.metrics import classification_report\n",
    "\n",
    "\n"
   ]
  },
  {
   "cell_type": "code",
   "execution_count": 72,
   "metadata": {},
   "outputs": [],
   "source": [
    "from sklearn.model_selection import GridSearchCV"
   ]
  },
  {
   "cell_type": "code",
   "execution_count": 73,
   "metadata": {},
   "outputs": [
    {
     "data": {
      "text/plain": [
       "GradientBoostingClassifier(max_features='sqrt', random_state=10, subsample=1)"
      ]
     },
     "execution_count": 73,
     "metadata": {},
     "output_type": "execute_result"
    }
   ],
   "source": [
    "baseline = GradientBoostingClassifier(learning_rate=0.1, n_estimators=100,max_depth=3, min_samples_split=2, min_samples_leaf=1, subsample=1,max_features='sqrt', random_state=10)\n",
    "baseline.fit(X_train,y_train)"
   ]
  },
  {
   "cell_type": "code",
   "execution_count": 75,
   "metadata": {},
   "outputs": [
    {
     "name": "stdout",
     "output_type": "stream",
     "text": [
      "Accuracy of the GBM on test set: 0.871\n",
      "              precision    recall  f1-score   support\n",
      "\n",
      "         0.0       0.98      0.88      0.93     19325\n",
      "         1.0       0.13      0.51      0.21       675\n",
      "\n",
      "    accuracy                           0.87     20000\n",
      "   macro avg       0.56      0.69      0.57     20000\n",
      "weighted avg       0.95      0.87      0.91     20000\n",
      "\n"
     ]
    }
   ],
   "source": [
    "predictors=list(X_train)\n",
    "feat_imp = pd.Series(baseline.feature_importances_, predictors).sort_values(ascending=False)\n",
    "print('Accuracy of the GBM on test set: {:.3f}'.format(baseline.score(X_test, y_test)))\n",
    "pred=baseline.predict(X_test)\n",
    "print(classification_report(y_test, pred))"
   ]
  },
  {
   "cell_type": "code",
   "execution_count": 76,
   "metadata": {},
   "outputs": [],
   "source": [
    "res_gbm = baseline.predict_proba(final_test)[:,1]"
   ]
  },
  {
   "cell_type": "code",
   "execution_count": 77,
   "metadata": {},
   "outputs": [
    {
     "data": {
      "text/plain": [
       "array([0.62505622, 0.70149784, 0.58799309, ..., 0.45302239, 0.66555254,\n",
       "       0.30819425])"
      ]
     },
     "execution_count": 77,
     "metadata": {},
     "output_type": "execute_result"
    }
   ],
   "source": [
    "res_gbm"
   ]
  },
  {
   "cell_type": "code",
   "execution_count": 78,
   "metadata": {},
   "outputs": [],
   "source": [
    "gbm_output = pd.DataFrame(columns=['CLAIMNO','TARGET'])\n"
   ]
  },
  {
   "cell_type": "code",
   "execution_count": 79,
   "metadata": {},
   "outputs": [
    {
     "data": {
      "text/html": [
       "<div>\n",
       "<style scoped>\n",
       "    .dataframe tbody tr th:only-of-type {\n",
       "        vertical-align: middle;\n",
       "    }\n",
       "\n",
       "    .dataframe tbody tr th {\n",
       "        vertical-align: top;\n",
       "    }\n",
       "\n",
       "    .dataframe thead th {\n",
       "        text-align: right;\n",
       "    }\n",
       "</style>\n",
       "<table border=\"1\" class=\"dataframe\">\n",
       "  <thead>\n",
       "    <tr style=\"text-align: right;\">\n",
       "      <th></th>\n",
       "      <th>CLAIMNO</th>\n",
       "      <th>TARGET</th>\n",
       "    </tr>\n",
       "  </thead>\n",
       "  <tbody>\n",
       "    <tr>\n",
       "      <th>0</th>\n",
       "      <td>50001</td>\n",
       "      <td>0.625056</td>\n",
       "    </tr>\n",
       "    <tr>\n",
       "      <th>1</th>\n",
       "      <td>50002</td>\n",
       "      <td>0.701498</td>\n",
       "    </tr>\n",
       "    <tr>\n",
       "      <th>2</th>\n",
       "      <td>50003</td>\n",
       "      <td>0.587993</td>\n",
       "    </tr>\n",
       "    <tr>\n",
       "      <th>3</th>\n",
       "      <td>50004</td>\n",
       "      <td>0.710957</td>\n",
       "    </tr>\n",
       "    <tr>\n",
       "      <th>4</th>\n",
       "      <td>50005</td>\n",
       "      <td>0.535126</td>\n",
       "    </tr>\n",
       "    <tr>\n",
       "      <th>...</th>\n",
       "      <td>...</td>\n",
       "      <td>...</td>\n",
       "    </tr>\n",
       "    <tr>\n",
       "      <th>27990</th>\n",
       "      <td>77991</td>\n",
       "      <td>0.629643</td>\n",
       "    </tr>\n",
       "    <tr>\n",
       "      <th>27991</th>\n",
       "      <td>77992</td>\n",
       "      <td>0.470004</td>\n",
       "    </tr>\n",
       "    <tr>\n",
       "      <th>27992</th>\n",
       "      <td>77993</td>\n",
       "      <td>0.453022</td>\n",
       "    </tr>\n",
       "    <tr>\n",
       "      <th>27993</th>\n",
       "      <td>77994</td>\n",
       "      <td>0.665553</td>\n",
       "    </tr>\n",
       "    <tr>\n",
       "      <th>27994</th>\n",
       "      <td>77995</td>\n",
       "      <td>0.308194</td>\n",
       "    </tr>\n",
       "  </tbody>\n",
       "</table>\n",
       "<p>27995 rows × 2 columns</p>\n",
       "</div>"
      ],
      "text/plain": [
       "       CLAIMNO    TARGET\n",
       "0        50001  0.625056\n",
       "1        50002  0.701498\n",
       "2        50003  0.587993\n",
       "3        50004  0.710957\n",
       "4        50005  0.535126\n",
       "...        ...       ...\n",
       "27990    77991  0.629643\n",
       "27991    77992  0.470004\n",
       "27992    77993  0.453022\n",
       "27993    77994  0.665553\n",
       "27994    77995  0.308194\n",
       "\n",
       "[27995 rows x 2 columns]"
      ]
     },
     "execution_count": 79,
     "metadata": {},
     "output_type": "execute_result"
    }
   ],
   "source": [
    "gbm_output['CLAIMNO'] = claim_no\n",
    "gbm_output['TARGET'] = res_gbm\n",
    "\n",
    "gbm_output.to_csv('gbm.csv',index=False)\n",
    "\n",
    "gbm_output"
   ]
  },
  {
   "cell_type": "code",
   "execution_count": 80,
   "metadata": {},
   "outputs": [],
   "source": [
    "# trying bagging and boosting techniue "
   ]
  },
  {
   "cell_type": "code",
   "execution_count": null,
   "metadata": {},
   "outputs": [],
   "source": []
  }
 ],
 "metadata": {
  "kernelspec": {
   "display_name": "Python 3",
   "language": "python",
   "name": "python3"
  },
  "language_info": {
   "codemirror_mode": {
    "name": "ipython",
    "version": 3
   },
   "file_extension": ".py",
   "mimetype": "text/x-python",
   "name": "python",
   "nbconvert_exporter": "python",
   "pygments_lexer": "ipython3",
   "version": "3.6.9"
  }
 },
 "nbformat": 4,
 "nbformat_minor": 2
}
